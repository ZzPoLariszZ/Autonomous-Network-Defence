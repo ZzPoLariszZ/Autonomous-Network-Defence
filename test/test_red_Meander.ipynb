{
 "cells": [
  {
   "cell_type": "code",
   "execution_count": 1,
   "metadata": {},
   "outputs": [],
   "source": [
    "import inspect\n",
    "import random\n",
    "from pprint import pprint\n",
    "from CybORG import CybORG\n",
    "\n",
    "path = str(inspect.getfile(CybORG))\n",
    "path = path[:-10] + '/Shared/Scenarios/Scenario1b.yaml'\n",
    "\n",
    "env = CybORG(path, 'sim')\n",
    "\n",
    "results = env.reset(agent='Red')\n",
    "red_obs = results.observation"
   ]
  },
  {
   "cell_type": "code",
   "execution_count": 2,
   "metadata": {},
   "outputs": [
    {
     "name": "stdout",
     "output_type": "stream",
     "text": [
      "<class 'CybORG.Shared.Results.Results'>\n",
      "{'User0': {'Interface': [{'IP Address': IPv4Address('10.0.110.235'),\n",
      "                          'Interface Name': 'eth0',\n",
      "                          'Subnet': IPv4Network('10.0.110.224/28')}],\n",
      "           'Processes': [{'PID': 13796, 'Username': 'SYSTEM'}],\n",
      "           'Sessions': [{'Agent': 'Red',\n",
      "                         'ID': 0,\n",
      "                         'PID': 13796,\n",
      "                         'Timeout': 0,\n",
      "                         'Type': <SessionType.RED_ABSTRACT_SESSION: 10>,\n",
      "                         'Username': 'SYSTEM'}],\n",
      "           'System info': {'Architecture': <Architecture.x64: 2>,\n",
      "                           'Hostname': 'User0',\n",
      "                           'OSDistribution': <OperatingSystemDistribution.WINDOWS_SVR_2008: 4>,\n",
      "                           'OSType': <OperatingSystemType.WINDOWS: 2>,\n",
      "                           'OSVersion': <OperatingSystemVersion.W6_1_7601: 13>}},\n",
      " 'success': <TrinaryEnum.UNKNOWN: 2>}\n"
     ]
    }
   ],
   "source": [
    "print(type(results))\n",
    "pprint(red_obs)"
   ]
  },
  {
   "cell_type": "code",
   "execution_count": 3,
   "metadata": {},
   "outputs": [
    {
     "name": "stdout",
     "output_type": "stream",
     "text": [
      "Session:  {0: True}\n",
      "Meander Action: DiscoverRemoteSystems 10.0.110.224/28\n",
      "Meander Scanned Subnets: [IPv4Network('10.0.110.224/28')]\n",
      "Meander Scanned IP Addresses: []\n",
      "Meander Exploited IP Addresses: []\n",
      "Meander Escalated Hosts: []\n",
      "Meander Host IP Address Mapping: {}\n",
      "Meander Last Host: None\n",
      "Meander Last IP Address: None\n",
      "----------------------------------------------------------------------------\n",
      "{'10.0.110.227': {'Interface': [{'IP Address': IPv4Address('10.0.110.227'),\n",
      "                                 'Subnet': IPv4Network('10.0.110.224/28')}]},\n",
      " '10.0.110.232': {'Interface': [{'IP Address': IPv4Address('10.0.110.232'),\n",
      "                                 'Subnet': IPv4Network('10.0.110.224/28')}]},\n",
      " '10.0.110.235': {'Interface': [{'IP Address': IPv4Address('10.0.110.235'),\n",
      "                                 'Subnet': IPv4Network('10.0.110.224/28')}]},\n",
      " '10.0.110.236': {'Interface': [{'IP Address': IPv4Address('10.0.110.236'),\n",
      "                                 'Subnet': IPv4Network('10.0.110.224/28')}]},\n",
      " '10.0.110.237': {'Interface': [{'IP Address': IPv4Address('10.0.110.237'),\n",
      "                                 'Subnet': IPv4Network('10.0.110.224/28')}]},\n",
      " 'success': <TrinaryEnum.TRUE: 1>}\n"
     ]
    }
   ],
   "source": [
    "from CybORG.Agents import RedMeanderAgent\n",
    "from CybORG.Agents import RandomAgent\n",
    "\n",
    "action_space = results.action_space\n",
    "session = action_space['session']\n",
    "print('Session: ', session)\n",
    "# from CybORG.Agents import RedMeanderAgent\n",
    "meander_agent = RandomAgent()\n",
    "\n",
    "def step_red(red_obs):\n",
    "    action = meander_agent.get_action(red_obs, action_space)\n",
    "    print('Meander Action:', action)\n",
    "    print('Meander Scanned Subnets:', meander_agent.scanned_subnets)\n",
    "    print('Meander Scanned IP Addresses:', meander_agent.scanned_ips)\n",
    "    print('Meander Exploited IP Addresses:', meander_agent.exploited_ips)\n",
    "    print('Meander Escalated Hosts:', meander_agent.escalated_hosts)\n",
    "    print('Meander Host IP Address Mapping:', meander_agent.host_ip_map)\n",
    "    print('Meander Last Host:', meander_agent.last_host)\n",
    "    print('Meander Last IP Address:', meander_agent.last_ip)\n",
    "\n",
    "    print(76*'-')\n",
    "\n",
    "    results = env.step(action=action, agent='Red')\n",
    "    red_obs = results.observation\n",
    "    pprint(red_obs)\n",
    "    \n",
    "    return results\n",
    "\n",
    "results = step_red(red_obs)\n",
    "red_obs = results.observation"
   ]
  },
  {
   "cell_type": "code",
   "execution_count": 4,
   "metadata": {},
   "outputs": [
    {
     "name": "stdout",
     "output_type": "stream",
     "text": [
      "Meander Action: DiscoverNetworkServices 10.0.110.232\n",
      "Meander Scanned Subnets: [IPv4Network('10.0.110.224/28')]\n",
      "Meander Scanned IP Addresses: [IPv4Address('10.0.110.232')]\n",
      "Meander Exploited IP Addresses: []\n",
      "Meander Escalated Hosts: []\n",
      "Meander Host IP Address Mapping: {}\n",
      "Meander Last Host: None\n",
      "Meander Last IP Address: None\n",
      "----------------------------------------------------------------------------\n",
      "{'10.0.110.232': {'Interface': [{'IP Address': IPv4Address('10.0.110.232')}],\n",
      "                  'Processes': [{'Connections': [{'local_address': IPv4Address('10.0.110.232'),\n",
      "                                                  'local_port': 22}]},\n",
      "                                {'Connections': [{'local_address': IPv4Address('10.0.110.232'),\n",
      "                                                  'local_port': 135}]},\n",
      "                                {'Connections': [{'local_address': IPv4Address('10.0.110.232'),\n",
      "                                                  'local_port': 3389}]},\n",
      "                                {'Connections': [{'local_address': IPv4Address('10.0.110.232'),\n",
      "                                                  'local_port': 445}]},\n",
      "                                {'Connections': [{'local_address': IPv4Address('10.0.110.232'),\n",
      "                                                  'local_port': 139}]}]},\n",
      " 'success': <TrinaryEnum.TRUE: 1>}\n",
      "{0: True}\n"
     ]
    }
   ],
   "source": [
    "results = step_red(red_obs)\n",
    "red_obs = results.observation\n",
    "session = action_space['session']\n",
    "print(session)"
   ]
  },
  {
   "cell_type": "code",
   "execution_count": 5,
   "metadata": {},
   "outputs": [
    {
     "name": "stdout",
     "output_type": "stream",
     "text": [
      "Meander Action: DiscoverNetworkServices 10.0.110.236\n",
      "Meander Scanned Subnets: [IPv4Network('10.0.110.224/28')]\n",
      "Meander Scanned IP Addresses: [IPv4Address('10.0.110.232'), IPv4Address('10.0.110.236')]\n",
      "Meander Exploited IP Addresses: []\n",
      "Meander Escalated Hosts: []\n",
      "Meander Host IP Address Mapping: {}\n",
      "Meander Last Host: None\n",
      "Meander Last IP Address: None\n",
      "----------------------------------------------------------------------------\n",
      "{'10.0.110.236': {'Interface': [{'IP Address': IPv4Address('10.0.110.236')}],\n",
      "                  'Processes': [{'Connections': [{'local_address': IPv4Address('10.0.110.236'),\n",
      "                                                  'local_port': 22}]},\n",
      "                                {'Connections': [{'local_address': IPv4Address('10.0.110.236'),\n",
      "                                                  'local_port': 80}]}]},\n",
      " 'success': <TrinaryEnum.TRUE: 1>}\n",
      "{0: True}\n"
     ]
    }
   ],
   "source": [
    "results = step_red(red_obs)\n",
    "red_obs = results.observation\n",
    "session = action_space['session']\n",
    "print(session)"
   ]
  },
  {
   "cell_type": "code",
   "execution_count": 6,
   "metadata": {},
   "outputs": [
    {
     "name": "stdout",
     "output_type": "stream",
     "text": [
      "Meander Action: DiscoverNetworkServices 10.0.110.237\n",
      "Meander Scanned Subnets: [IPv4Network('10.0.110.224/28')]\n",
      "Meander Scanned IP Addresses: [IPv4Address('10.0.110.232'), IPv4Address('10.0.110.236'), IPv4Address('10.0.110.237')]\n",
      "Meander Exploited IP Addresses: []\n",
      "Meander Escalated Hosts: []\n",
      "Meander Host IP Address Mapping: {}\n",
      "Meander Last Host: None\n",
      "Meander Last IP Address: None\n",
      "----------------------------------------------------------------------------\n",
      "{'10.0.110.237': {'Interface': [{'IP Address': IPv4Address('10.0.110.237')}],\n",
      "                  'Processes': [{'Connections': [{'local_address': IPv4Address('10.0.110.237'),\n",
      "                                                  'local_port': 22}]},\n",
      "                                {'Connections': [{'local_address': IPv4Address('10.0.110.237'),\n",
      "                                                  'local_port': 135}]},\n",
      "                                {'Connections': [{'local_address': IPv4Address('10.0.110.237'),\n",
      "                                                  'local_port': 3389}]},\n",
      "                                {'Connections': [{'local_address': IPv4Address('10.0.110.237'),\n",
      "                                                  'local_port': 445}]},\n",
      "                                {'Connections': [{'local_address': IPv4Address('10.0.110.237'),\n",
      "                                                  'local_port': 139}]}]},\n",
      " 'success': <TrinaryEnum.TRUE: 1>}\n",
      "{0: True}\n"
     ]
    }
   ],
   "source": [
    "results = step_red(red_obs)\n",
    "red_obs = results.observation\n",
    "session = action_space['session']\n",
    "print(session)"
   ]
  },
  {
   "cell_type": "code",
   "execution_count": 7,
   "metadata": {},
   "outputs": [
    {
     "name": "stdout",
     "output_type": "stream",
     "text": [
      "Meander Action: DiscoverNetworkServices 10.0.110.227\n",
      "Meander Scanned Subnets: [IPv4Network('10.0.110.224/28')]\n",
      "Meander Scanned IP Addresses: [IPv4Address('10.0.110.232'), IPv4Address('10.0.110.236'), IPv4Address('10.0.110.237'), IPv4Address('10.0.110.227')]\n",
      "Meander Exploited IP Addresses: []\n",
      "Meander Escalated Hosts: []\n",
      "Meander Host IP Address Mapping: {}\n",
      "Meander Last Host: None\n",
      "Meander Last IP Address: None\n",
      "----------------------------------------------------------------------------\n",
      "{'10.0.110.227': {'Interface': [{'IP Address': IPv4Address('10.0.110.227')}],\n",
      "                  'Processes': [{'Connections': [{'local_address': IPv4Address('10.0.110.227'),\n",
      "                                                  'local_port': 22}]},\n",
      "                                {'Connections': [{'local_address': IPv4Address('10.0.110.227'),\n",
      "                                                  'local_port': 80}]}]},\n",
      " 'success': <TrinaryEnum.TRUE: 1>}\n",
      "{0: True}\n"
     ]
    }
   ],
   "source": [
    "results = step_red(red_obs)\n",
    "red_obs = results.observation\n",
    "session = action_space['session']\n",
    "print(session)"
   ]
  },
  {
   "cell_type": "code",
   "execution_count": 8,
   "metadata": {},
   "outputs": [
    {
     "name": "stdout",
     "output_type": "stream",
     "text": [
      "Meander Action: DiscoverNetworkServices 10.0.110.235\n",
      "Meander Scanned Subnets: [IPv4Network('10.0.110.224/28')]\n",
      "Meander Scanned IP Addresses: [IPv4Address('10.0.110.232'), IPv4Address('10.0.110.236'), IPv4Address('10.0.110.237'), IPv4Address('10.0.110.227'), IPv4Address('10.0.110.235')]\n",
      "Meander Exploited IP Addresses: []\n",
      "Meander Escalated Hosts: []\n",
      "Meander Host IP Address Mapping: {}\n",
      "Meander Last Host: None\n",
      "Meander Last IP Address: None\n",
      "----------------------------------------------------------------------------\n",
      "{'10.0.110.235': {'Interface': [{'IP Address': IPv4Address('10.0.110.235')}],\n",
      "                  'Processes': [{'Connections': [{'local_address': IPv4Address('10.0.110.235'),\n",
      "                                                  'local_port': 22}]},\n",
      "                                {'Connections': [{'local_address': IPv4Address('10.0.110.235'),\n",
      "                                                  'local_port': 135}]},\n",
      "                                {'Connections': [{'local_address': IPv4Address('10.0.110.235'),\n",
      "                                                  'local_port': 3389}]},\n",
      "                                {'Connections': [{'local_address': IPv4Address('10.0.110.235'),\n",
      "                                                  'local_port': 445}]},\n",
      "                                {'Connections': [{'local_address': IPv4Address('10.0.110.235'),\n",
      "                                                  'local_port': 139}]}]},\n",
      " 'success': <TrinaryEnum.TRUE: 1>}\n",
      "{0: True}\n"
     ]
    }
   ],
   "source": [
    "results = step_red(red_obs)\n",
    "red_obs = results.observation\n",
    "session = action_space['session']\n",
    "print(session)"
   ]
  },
  {
   "cell_type": "code",
   "execution_count": 9,
   "metadata": {},
   "outputs": [
    {
     "name": "stdout",
     "output_type": "stream",
     "text": [
      "Meander Action: PrivilegeEscalate User0\n",
      "Meander Scanned Subnets: [IPv4Network('10.0.110.224/28')]\n",
      "Meander Scanned IP Addresses: [IPv4Address('10.0.110.232'), IPv4Address('10.0.110.236'), IPv4Address('10.0.110.237'), IPv4Address('10.0.110.227'), IPv4Address('10.0.110.235')]\n",
      "Meander Exploited IP Addresses: []\n",
      "Meander Escalated Hosts: ['User0']\n",
      "Meander Host IP Address Mapping: {}\n",
      "Meander Last Host: User0\n",
      "Meander Last IP Address: None\n",
      "----------------------------------------------------------------------------\n",
      "{'User0': {'Interface': [{'IP Address': IPv4Address('10.0.110.235'),\n",
      "                          'Interface Name': 'eth0',\n",
      "                          'Subnet': IPv4Network('10.0.110.224/28')}],\n",
      "           'Processes': [{'PID': 13796, 'Username': 'SYSTEM'}],\n",
      "           'Sessions': [{'Agent': 'Red',\n",
      "                         'ID': 0,\n",
      "                         'PID': 13796,\n",
      "                         'Timeout': 0,\n",
      "                         'Type': <SessionType.RED_ABSTRACT_SESSION: 10>,\n",
      "                         'Username': 'SYSTEM'}]},\n",
      " 'success': <TrinaryEnum.TRUE: 1>}\n",
      "{0: True}\n"
     ]
    }
   ],
   "source": [
    "results = step_red(red_obs)\n",
    "red_obs = results.observation\n",
    "session = action_space['session']\n",
    "print(session)"
   ]
  },
  {
   "cell_type": "code",
   "execution_count": 10,
   "metadata": {},
   "outputs": [
    {
     "name": "stdout",
     "output_type": "stream",
     "text": [
      "Meander Action: ExploitRemoteService 10.0.110.232\n",
      "Meander Scanned Subnets: [IPv4Network('10.0.110.224/28')]\n",
      "Meander Scanned IP Addresses: [IPv4Address('10.0.110.232'), IPv4Address('10.0.110.236'), IPv4Address('10.0.110.237'), IPv4Address('10.0.110.227'), IPv4Address('10.0.110.235')]\n",
      "Meander Exploited IP Addresses: [IPv4Address('10.0.110.232')]\n",
      "Meander Escalated Hosts: ['User0']\n",
      "Meander Host IP Address Mapping: {}\n",
      "Meander Last Host: None\n",
      "Meander Last IP Address: 10.0.110.232\n",
      "----------------------------------------------------------------------------\n",
      "{'10.0.110.232': {'Interface': [{'IP Address': IPv4Address('10.0.110.232')}],\n",
      "                  'Processes': [{'Connections': [{'local_address': IPv4Address('10.0.110.232'),\n",
      "                                                  'local_port': 54950,\n",
      "                                                  'remote_address': IPv4Address('10.0.110.235'),\n",
      "                                                  'remote_port': 4444}],\n",
      "                                 'Process Type': <ProcessType.REVERSE_SESSION: 9>},\n",
      "                                {'Connections': [{'Status': <ProcessState.OPEN: 2>,\n",
      "                                                  'local_address': IPv4Address('10.0.110.232'),\n",
      "                                                  'local_port': 139}],\n",
      "                                 'Process Type': <ProcessType.SMB: 4>}],\n",
      "                  'Sessions': [{'Agent': 'Red',\n",
      "                                'ID': 1,\n",
      "                                'Type': <SessionType.RED_REVERSE_SHELL: 11>}],\n",
      "                  'System info': {'Hostname': 'User1',\n",
      "                                  'OSType': <OperatingSystemType.WINDOWS: 2>}},\n",
      " '10.0.110.235': {'Interface': [{'IP Address': IPv4Address('10.0.110.235')}],\n",
      "                  'Processes': [{'Connections': [{'local_address': IPv4Address('10.0.110.235'),\n",
      "                                                  'local_port': 4444,\n",
      "                                                  'remote_address': IPv4Address('10.0.110.232'),\n",
      "                                                  'remote_port': 54950}],\n",
      "                                 'Process Type': <ProcessType.REVERSE_SESSION_HANDLER: 8>}]},\n",
      " 'success': <TrinaryEnum.TRUE: 1>}\n",
      "{0: True}\n"
     ]
    }
   ],
   "source": [
    "results = step_red(red_obs)\n",
    "red_obs = results.observation\n",
    "session = action_space['session']\n",
    "print(session)"
   ]
  },
  {
   "cell_type": "code",
   "execution_count": 11,
   "metadata": {},
   "outputs": [
    {
     "name": "stdout",
     "output_type": "stream",
     "text": [
      "Meander Action: PrivilegeEscalate User1\n",
      "Meander Scanned Subnets: [IPv4Network('10.0.110.224/28')]\n",
      "Meander Scanned IP Addresses: [IPv4Address('10.0.110.232'), IPv4Address('10.0.110.236'), IPv4Address('10.0.110.237'), IPv4Address('10.0.110.227'), IPv4Address('10.0.110.235')]\n",
      "Meander Exploited IP Addresses: [IPv4Address('10.0.110.232')]\n",
      "Meander Escalated Hosts: ['User0', 'User1']\n",
      "Meander Host IP Address Mapping: {'User1': IPv4Address('10.0.110.232')}\n",
      "Meander Last Host: User1\n",
      "Meander Last IP Address: None\n",
      "----------------------------------------------------------------------------\n",
      "{'Enterprise1': {'Interface': [{'IP Address': IPv4Address('10.0.19.200')}]},\n",
      " 'User1': {'Interface': [{'IP Address': IPv4Address('10.0.110.232'),\n",
      "                          'Interface Name': 'eth0',\n",
      "                          'Subnet': IPv4Network('10.0.110.224/28')}],\n",
      "           'Processes': [{'PID': 8725, 'Username': 'SYSTEM'}],\n",
      "           'Sessions': [{'Agent': 'Red',\n",
      "                         'ID': 1,\n",
      "                         'PID': 8725,\n",
      "                         'Timeout': 0,\n",
      "                         'Type': <SessionType.RED_REVERSE_SHELL: 11>,\n",
      "                         'Username': 'SYSTEM'}]},\n",
      " 'success': <TrinaryEnum.TRUE: 1>}\n",
      "{0: True}\n"
     ]
    }
   ],
   "source": [
    "results = step_red(red_obs)\n",
    "red_obs = results.observation\n",
    "session = action_space['session']\n",
    "print(session)"
   ]
  },
  {
   "cell_type": "code",
   "execution_count": 12,
   "metadata": {},
   "outputs": [
    {
     "name": "stdout",
     "output_type": "stream",
     "text": [
      "Meander Action: DiscoverNetworkServices 10.0.19.200\n",
      "Meander Scanned Subnets: [IPv4Network('10.0.110.224/28')]\n",
      "Meander Scanned IP Addresses: [IPv4Address('10.0.110.232'), IPv4Address('10.0.110.236'), IPv4Address('10.0.110.237'), IPv4Address('10.0.110.227'), IPv4Address('10.0.110.235'), IPv4Address('10.0.19.200')]\n",
      "Meander Exploited IP Addresses: [IPv4Address('10.0.110.232')]\n",
      "Meander Escalated Hosts: ['User0', 'User1']\n",
      "Meander Host IP Address Mapping: {'User1': IPv4Address('10.0.110.232')}\n",
      "Meander Last Host: None\n",
      "Meander Last IP Address: None\n",
      "----------------------------------------------------------------------------\n",
      "{'10.0.19.200': {'Interface': [{'IP Address': IPv4Address('10.0.19.200')}],\n",
      "                 'Processes': [{'Connections': [{'local_address': IPv4Address('10.0.19.200'),\n",
      "                                                 'local_port': 22}]},\n",
      "                               {'Connections': [{'local_address': IPv4Address('10.0.19.200'),\n",
      "                                                 'local_port': 135}]},\n",
      "                               {'Connections': [{'local_address': IPv4Address('10.0.19.200'),\n",
      "                                                 'local_port': 3389}]},\n",
      "                               {'Connections': [{'local_address': IPv4Address('10.0.19.200'),\n",
      "                                                 'local_port': 445}]},\n",
      "                               {'Connections': [{'local_address': IPv4Address('10.0.19.200'),\n",
      "                                                 'local_port': 139}]},\n",
      "                               {'Connections': [{'local_address': IPv4Address('10.0.19.200'),\n",
      "                                                 'local_port': 80}]},\n",
      "                               {'Connections': [{'local_address': IPv4Address('10.0.19.200'),\n",
      "                                                 'local_port': 443}]}]},\n",
      " 'success': <TrinaryEnum.TRUE: 1>}\n",
      "{0: True}\n"
     ]
    }
   ],
   "source": [
    "results = step_red(red_obs)\n",
    "red_obs = results.observation\n",
    "session = action_space['session']\n",
    "print(session)"
   ]
  },
  {
   "cell_type": "code",
   "execution_count": 13,
   "metadata": {},
   "outputs": [
    {
     "name": "stdout",
     "output_type": "stream",
     "text": [
      "Meander Action: ExploitRemoteService 10.0.110.236\n",
      "Meander Scanned Subnets: [IPv4Network('10.0.110.224/28')]\n",
      "Meander Scanned IP Addresses: [IPv4Address('10.0.110.232'), IPv4Address('10.0.110.236'), IPv4Address('10.0.110.237'), IPv4Address('10.0.110.227'), IPv4Address('10.0.110.235'), IPv4Address('10.0.19.200')]\n",
      "Meander Exploited IP Addresses: [IPv4Address('10.0.110.232'), IPv4Address('10.0.110.236')]\n",
      "Meander Escalated Hosts: ['User0', 'User1']\n",
      "Meander Host IP Address Mapping: {'User1': IPv4Address('10.0.110.232')}\n",
      "Meander Last Host: None\n",
      "Meander Last IP Address: 10.0.110.236\n",
      "----------------------------------------------------------------------------\n",
      "{'10.0.110.235': {'Interface': [{'IP Address': IPv4Address('10.0.110.235')}],\n",
      "                  'Processes': [{'Connections': [{'local_address': IPv4Address('10.0.110.235'),\n",
      "                                                  'local_port': 4444,\n",
      "                                                  'remote_address': IPv4Address('10.0.110.236'),\n",
      "                                                  'remote_port': 56994}],\n",
      "                                 'Process Type': <ProcessType.REVERSE_SESSION_HANDLER: 8>}]},\n",
      " '10.0.110.236': {'Interface': [{'IP Address': IPv4Address('10.0.110.236')}],\n",
      "                  'Processes': [{'Connections': [{'local_address': IPv4Address('10.0.110.236'),\n",
      "                                                  'local_port': 56994,\n",
      "                                                  'remote_address': IPv4Address('10.0.110.235'),\n",
      "                                                  'remote_port': 4444}],\n",
      "                                 'Process Type': <ProcessType.REVERSE_SESSION: 9>},\n",
      "                                {'Connections': [{'Status': <ProcessState.OPEN: 2>,\n",
      "                                                  'local_address': IPv4Address('10.0.110.236'),\n",
      "                                                  'local_port': 80}],\n",
      "                                 'Process Type': <ProcessType.WEBSERVER: 5>}],\n",
      "                  'Sessions': [{'Agent': 'Red',\n",
      "                                'ID': 2,\n",
      "                                'Type': <SessionType.RED_REVERSE_SHELL: 11>}],\n",
      "                  'System info': {'Hostname': 'User4',\n",
      "                                  'OSType': <OperatingSystemType.LINUX: 3>}},\n",
      " 'success': <TrinaryEnum.TRUE: 1>}\n",
      "{0: True}\n"
     ]
    }
   ],
   "source": [
    "results = step_red(red_obs)\n",
    "red_obs = results.observation\n",
    "session = action_space['session']\n",
    "print(session)"
   ]
  },
  {
   "cell_type": "code",
   "execution_count": 14,
   "metadata": {},
   "outputs": [
    {
     "name": "stdout",
     "output_type": "stream",
     "text": [
      "Meander Action: PrivilegeEscalate User4\n",
      "Meander Scanned Subnets: [IPv4Network('10.0.110.224/28')]\n",
      "Meander Scanned IP Addresses: [IPv4Address('10.0.110.232'), IPv4Address('10.0.110.236'), IPv4Address('10.0.110.237'), IPv4Address('10.0.110.227'), IPv4Address('10.0.110.235'), IPv4Address('10.0.19.200')]\n",
      "Meander Exploited IP Addresses: [IPv4Address('10.0.110.232'), IPv4Address('10.0.110.236')]\n",
      "Meander Escalated Hosts: ['User0', 'User1', 'User4']\n",
      "Meander Host IP Address Mapping: {'User1': IPv4Address('10.0.110.232'), 'User4': IPv4Address('10.0.110.236')}\n",
      "Meander Last Host: User4\n",
      "Meander Last IP Address: None\n",
      "----------------------------------------------------------------------------\n",
      "{'Enterprise0': {'Interface': [{'IP Address': IPv4Address('10.0.19.199')}]},\n",
      " 'User4': {'Interface': [{'IP Address': IPv4Address('10.0.110.236'),\n",
      "                          'Interface Name': 'eth0',\n",
      "                          'Subnet': IPv4Network('10.0.110.224/28')}],\n",
      "           'Sessions': [{'Agent': 'Red',\n",
      "                         'ID': 2,\n",
      "                         'Type': <SessionType.RED_REVERSE_SHELL: 11>,\n",
      "                         'Username': 'root'}]},\n",
      " 'success': <TrinaryEnum.TRUE: 1>}\n",
      "{0: True}\n"
     ]
    }
   ],
   "source": [
    "results = step_red(red_obs)\n",
    "red_obs = results.observation\n",
    "session = action_space['session']\n",
    "print(session)"
   ]
  },
  {
   "cell_type": "code",
   "execution_count": 15,
   "metadata": {},
   "outputs": [
    {
     "name": "stdout",
     "output_type": "stream",
     "text": [
      "Meander Action: DiscoverNetworkServices 10.0.19.199\n",
      "Meander Scanned Subnets: [IPv4Network('10.0.110.224/28')]\n",
      "Meander Scanned IP Addresses: [IPv4Address('10.0.110.232'), IPv4Address('10.0.110.236'), IPv4Address('10.0.110.237'), IPv4Address('10.0.110.227'), IPv4Address('10.0.110.235'), IPv4Address('10.0.19.200'), IPv4Address('10.0.19.199')]\n",
      "Meander Exploited IP Addresses: [IPv4Address('10.0.110.232'), IPv4Address('10.0.110.236')]\n",
      "Meander Escalated Hosts: ['User0', 'User1', 'User4']\n",
      "Meander Host IP Address Mapping: {'User1': IPv4Address('10.0.110.232'), 'User4': IPv4Address('10.0.110.236')}\n",
      "Meander Last Host: None\n",
      "Meander Last IP Address: None\n",
      "----------------------------------------------------------------------------\n",
      "{'10.0.19.199': {'Interface': [{'IP Address': IPv4Address('10.0.19.199')}],\n",
      "                 'Processes': [{'Connections': [{'local_address': IPv4Address('10.0.19.199'),\n",
      "                                                 'local_port': 22}]}]},\n",
      " 'success': <TrinaryEnum.TRUE: 1>}\n",
      "{0: True}\n"
     ]
    }
   ],
   "source": [
    "results = step_red(red_obs)\n",
    "red_obs = results.observation\n",
    "session = action_space['session']\n",
    "print(session)"
   ]
  },
  {
   "cell_type": "code",
   "execution_count": 16,
   "metadata": {},
   "outputs": [
    {
     "name": "stdout",
     "output_type": "stream",
     "text": [
      "Meander Action: ExploitRemoteService 10.0.19.199\n",
      "Meander Scanned Subnets: [IPv4Network('10.0.110.224/28')]\n",
      "Meander Scanned IP Addresses: [IPv4Address('10.0.110.232'), IPv4Address('10.0.110.236'), IPv4Address('10.0.110.237'), IPv4Address('10.0.110.227'), IPv4Address('10.0.110.235'), IPv4Address('10.0.19.200'), IPv4Address('10.0.19.199')]\n",
      "Meander Exploited IP Addresses: [IPv4Address('10.0.110.232'), IPv4Address('10.0.110.236'), IPv4Address('10.0.19.199')]\n",
      "Meander Escalated Hosts: ['User0', 'User1', 'User4']\n",
      "Meander Host IP Address Mapping: {'User1': IPv4Address('10.0.110.232'), 'User4': IPv4Address('10.0.110.236')}\n",
      "Meander Last Host: None\n",
      "Meander Last IP Address: 10.0.19.199\n",
      "----------------------------------------------------------------------------\n",
      "{'10.0.110.235': {'Interface': [{'IP Address': IPv4Address('10.0.110.235')}],\n",
      "                  'Processes': [{'Connections': [{'local_address': IPv4Address('10.0.110.235'),\n",
      "                                                  'local_port': 58011,\n",
      "                                                  'remote_address': IPv4Address('10.0.19.199'),\n",
      "                                                  'remote_port': 22}]}]},\n",
      " '10.0.19.199': {'Interface': [{'IP Address': IPv4Address('10.0.19.199')}],\n",
      "                 'Processes': [{'Connections': [{'Status': <ProcessState.OPEN: 2>,\n",
      "                                                 'local_address': IPv4Address('10.0.19.199'),\n",
      "                                                 'local_port': 22}],\n",
      "                                'Process Type': <ProcessType.SSH: 2>},\n",
      "                               {'Connections': [{'local_address': IPv4Address('10.0.19.199'),\n",
      "                                                 'local_port': 22,\n",
      "                                                 'remote_address': IPv4Address('10.0.110.235'),\n",
      "                                                 'remote_port': 58011}],\n",
      "                                'Process Type': <ProcessType.SSH: 2>}],\n",
      "                 'Sessions': [{'Agent': 'Red',\n",
      "                               'ID': 3,\n",
      "                               'Type': <SessionType.SSH: 2>,\n",
      "                               'Username': 'pi'}],\n",
      "                 'System info': {'Hostname': 'Enterprise0',\n",
      "                                 'OSType': <OperatingSystemType.LINUX: 3>},\n",
      "                 'User Info': [{'Password': 'raspberry',\n",
      "                                'UID': 1001,\n",
      "                                'Username': 'pi'}]},\n",
      " 'success': <TrinaryEnum.TRUE: 1>}\n",
      "{0: True}\n"
     ]
    }
   ],
   "source": [
    "results = step_red(red_obs)\n",
    "red_obs = results.observation\n",
    "session = action_space['session']\n",
    "print(session)"
   ]
  },
  {
   "cell_type": "code",
   "execution_count": 17,
   "metadata": {},
   "outputs": [
    {
     "name": "stdout",
     "output_type": "stream",
     "text": [
      "Meander Action: PrivilegeEscalate Enterprise0\n",
      "Meander Scanned Subnets: [IPv4Network('10.0.110.224/28')]\n",
      "Meander Scanned IP Addresses: [IPv4Address('10.0.110.232'), IPv4Address('10.0.110.236'), IPv4Address('10.0.110.237'), IPv4Address('10.0.110.227'), IPv4Address('10.0.110.235'), IPv4Address('10.0.19.200'), IPv4Address('10.0.19.199')]\n",
      "Meander Exploited IP Addresses: [IPv4Address('10.0.110.232'), IPv4Address('10.0.110.236'), IPv4Address('10.0.19.199')]\n",
      "Meander Escalated Hosts: ['User0', 'User1', 'User4', 'Enterprise0']\n",
      "Meander Host IP Address Mapping: {'User1': IPv4Address('10.0.110.232'), 'User4': IPv4Address('10.0.110.236'), 'Enterprise0': IPv4Address('10.0.19.199')}\n",
      "Meander Last Host: Enterprise0\n",
      "Meander Last IP Address: None\n",
      "----------------------------------------------------------------------------\n",
      "{'Enterprise0': {'Interface': [{'IP Address': IPv4Address('10.0.19.199'),\n",
      "                                'Interface Name': 'eth0',\n",
      "                                'Subnet': IPv4Network('10.0.19.192/28')}],\n",
      "                 'Sessions': [{'Agent': 'Red',\n",
      "                               'ID': 3,\n",
      "                               'Type': <SessionType.SSH: 2>,\n",
      "                               'Username': 'root'}]},\n",
      " 'success': <TrinaryEnum.TRUE: 1>}\n",
      "{0: True}\n"
     ]
    }
   ],
   "source": [
    "results = step_red(red_obs)\n",
    "red_obs = results.observation\n",
    "session = action_space['session']\n",
    "print(session)"
   ]
  },
  {
   "cell_type": "code",
   "execution_count": 18,
   "metadata": {},
   "outputs": [
    {
     "name": "stdout",
     "output_type": "stream",
     "text": [
      "Meander Action: DiscoverRemoteSystems 10.0.19.192/28\n",
      "Meander Scanned Subnets: [IPv4Network('10.0.110.224/28'), IPv4Network('10.0.19.192/28')]\n",
      "Meander Scanned IP Addresses: [IPv4Address('10.0.110.232'), IPv4Address('10.0.110.236'), IPv4Address('10.0.110.237'), IPv4Address('10.0.110.227'), IPv4Address('10.0.110.235'), IPv4Address('10.0.19.200'), IPv4Address('10.0.19.199')]\n",
      "Meander Exploited IP Addresses: [IPv4Address('10.0.110.232'), IPv4Address('10.0.110.236'), IPv4Address('10.0.19.199')]\n",
      "Meander Escalated Hosts: ['User0', 'User1', 'User4', 'Enterprise0']\n",
      "Meander Host IP Address Mapping: {'User1': IPv4Address('10.0.110.232'), 'User4': IPv4Address('10.0.110.236'), 'Enterprise0': IPv4Address('10.0.19.199')}\n",
      "Meander Last Host: None\n",
      "Meander Last IP Address: None\n",
      "----------------------------------------------------------------------------\n",
      "{'10.0.19.194': {'Interface': [{'IP Address': IPv4Address('10.0.19.194'),\n",
      "                                'Subnet': IPv4Network('10.0.19.192/28')}]},\n",
      " '10.0.19.195': {'Interface': [{'IP Address': IPv4Address('10.0.19.195'),\n",
      "                                'Subnet': IPv4Network('10.0.19.192/28')}]},\n",
      " '10.0.19.199': {'Interface': [{'IP Address': IPv4Address('10.0.19.199'),\n",
      "                                'Subnet': IPv4Network('10.0.19.192/28')}]},\n",
      " '10.0.19.200': {'Interface': [{'IP Address': IPv4Address('10.0.19.200'),\n",
      "                                'Subnet': IPv4Network('10.0.19.192/28')}]},\n",
      " 'success': <TrinaryEnum.TRUE: 1>}\n",
      "{0: True}\n"
     ]
    }
   ],
   "source": [
    "results = step_red(red_obs)\n",
    "red_obs = results.observation\n",
    "session = action_space['session']\n",
    "print(session)"
   ]
  },
  {
   "cell_type": "code",
   "execution_count": 19,
   "metadata": {},
   "outputs": [
    {
     "name": "stdout",
     "output_type": "stream",
     "text": [
      "Meander Action: DiscoverNetworkServices 10.0.19.194\n",
      "Meander Scanned Subnets: [IPv4Network('10.0.110.224/28'), IPv4Network('10.0.19.192/28')]\n",
      "Meander Scanned IP Addresses: [IPv4Address('10.0.110.232'), IPv4Address('10.0.110.236'), IPv4Address('10.0.110.237'), IPv4Address('10.0.110.227'), IPv4Address('10.0.110.235'), IPv4Address('10.0.19.200'), IPv4Address('10.0.19.199'), IPv4Address('10.0.19.194')]\n",
      "Meander Exploited IP Addresses: [IPv4Address('10.0.110.232'), IPv4Address('10.0.110.236'), IPv4Address('10.0.19.199')]\n",
      "Meander Escalated Hosts: ['User0', 'User1', 'User4', 'Enterprise0']\n",
      "Meander Host IP Address Mapping: {'User1': IPv4Address('10.0.110.232'), 'User4': IPv4Address('10.0.110.236'), 'Enterprise0': IPv4Address('10.0.19.199')}\n",
      "Meander Last Host: None\n",
      "Meander Last IP Address: None\n",
      "----------------------------------------------------------------------------\n",
      "{'10.0.19.194': {'Interface': [{'IP Address': IPv4Address('10.0.19.194')}],\n",
      "                 'Processes': [{'Connections': [{'local_address': IPv4Address('10.0.19.194'),\n",
      "                                                 'local_port': 22}]},\n",
      "                               {'Connections': [{'local_address': IPv4Address('10.0.19.194'),\n",
      "                                                 'local_port': 135}]},\n",
      "                               {'Connections': [{'local_address': IPv4Address('10.0.19.194'),\n",
      "                                                 'local_port': 3389}]},\n",
      "                               {'Connections': [{'local_address': IPv4Address('10.0.19.194'),\n",
      "                                                 'local_port': 445}]},\n",
      "                               {'Connections': [{'local_address': IPv4Address('10.0.19.194'),\n",
      "                                                 'local_port': 139}]},\n",
      "                               {'Connections': [{'local_address': IPv4Address('10.0.19.194'),\n",
      "                                                 'local_port': 80}]},\n",
      "                               {'Connections': [{'local_address': IPv4Address('10.0.19.194'),\n",
      "                                                 'local_port': 443}]}]},\n",
      " 'success': <TrinaryEnum.TRUE: 1>}\n",
      "{0: True}\n"
     ]
    }
   ],
   "source": [
    "results = step_red(red_obs)\n",
    "red_obs = results.observation\n",
    "session = action_space['session']\n",
    "print(session)"
   ]
  },
  {
   "cell_type": "code",
   "execution_count": 20,
   "metadata": {},
   "outputs": [
    {
     "name": "stdout",
     "output_type": "stream",
     "text": [
      "Meander Action: DiscoverNetworkServices 10.0.19.195\n",
      "Meander Scanned Subnets: [IPv4Network('10.0.110.224/28'), IPv4Network('10.0.19.192/28')]\n",
      "Meander Scanned IP Addresses: [IPv4Address('10.0.110.232'), IPv4Address('10.0.110.236'), IPv4Address('10.0.110.237'), IPv4Address('10.0.110.227'), IPv4Address('10.0.110.235'), IPv4Address('10.0.19.200'), IPv4Address('10.0.19.199'), IPv4Address('10.0.19.194'), IPv4Address('10.0.19.195')]\n",
      "Meander Exploited IP Addresses: [IPv4Address('10.0.110.232'), IPv4Address('10.0.110.236'), IPv4Address('10.0.19.199')]\n",
      "Meander Escalated Hosts: ['User0', 'User1', 'User4', 'Enterprise0']\n",
      "Meander Host IP Address Mapping: {'User1': IPv4Address('10.0.110.232'), 'User4': IPv4Address('10.0.110.236'), 'Enterprise0': IPv4Address('10.0.19.199')}\n",
      "Meander Last Host: None\n",
      "Meander Last IP Address: None\n",
      "----------------------------------------------------------------------------\n",
      "{'10.0.19.195': {'Interface': [{'IP Address': IPv4Address('10.0.19.195')}],\n",
      "                 'Processes': [{'Connections': [{'local_address': IPv4Address('10.0.19.195'),\n",
      "                                                 'local_port': 22}]},\n",
      "                               {'Connections': [{'local_address': IPv4Address('10.0.19.195'),\n",
      "                                                 'local_port': 53}]},\n",
      "                               {'Connections': [{'local_address': IPv4Address('10.0.19.195'),\n",
      "                                                 'local_port': 53}]},\n",
      "                               {'Connections': [{'local_address': IPv4Address('10.0.19.195'),\n",
      "                                                 'local_port': 68}]}]},\n",
      " 'success': <TrinaryEnum.TRUE: 1>}\n",
      "{0: True}\n"
     ]
    }
   ],
   "source": [
    "results = step_red(red_obs)\n",
    "red_obs = results.observation\n",
    "session = action_space['session']\n",
    "print(session)"
   ]
  },
  {
   "cell_type": "code",
   "execution_count": 21,
   "metadata": {},
   "outputs": [
    {
     "name": "stdout",
     "output_type": "stream",
     "text": [
      "Meander Action: ExploitRemoteService 10.0.19.200\n",
      "Meander Scanned Subnets: [IPv4Network('10.0.110.224/28'), IPv4Network('10.0.19.192/28')]\n",
      "Meander Scanned IP Addresses: [IPv4Address('10.0.110.232'), IPv4Address('10.0.110.236'), IPv4Address('10.0.110.237'), IPv4Address('10.0.110.227'), IPv4Address('10.0.110.235'), IPv4Address('10.0.19.200'), IPv4Address('10.0.19.199'), IPv4Address('10.0.19.194'), IPv4Address('10.0.19.195')]\n",
      "Meander Exploited IP Addresses: [IPv4Address('10.0.110.232'), IPv4Address('10.0.110.236'), IPv4Address('10.0.19.199'), IPv4Address('10.0.19.200')]\n",
      "Meander Escalated Hosts: ['User0', 'User1', 'User4', 'Enterprise0']\n",
      "Meander Host IP Address Mapping: {'User1': IPv4Address('10.0.110.232'), 'User4': IPv4Address('10.0.110.236'), 'Enterprise0': IPv4Address('10.0.19.199')}\n",
      "Meander Last Host: None\n",
      "Meander Last IP Address: 10.0.19.200\n",
      "----------------------------------------------------------------------------\n",
      "{'10.0.110.235': {'Interface': [{'IP Address': IPv4Address('10.0.110.235')}],\n",
      "                  'Processes': [{'Connections': [{'local_address': IPv4Address('10.0.110.235'),\n",
      "                                                  'local_port': 4444,\n",
      "                                                  'remote_address': IPv4Address('10.0.19.200'),\n",
      "                                                  'remote_port': 51862}],\n",
      "                                 'Process Type': <ProcessType.REVERSE_SESSION_HANDLER: 8>}]},\n",
      " '10.0.19.200': {'Interface': [{'IP Address': IPv4Address('10.0.19.200')}],\n",
      "                 'Processes': [{'Connections': [{'local_address': IPv4Address('10.0.19.200'),\n",
      "                                                 'local_port': 51862,\n",
      "                                                 'remote_address': IPv4Address('10.0.110.235'),\n",
      "                                                 'remote_port': 4444}],\n",
      "                                'Process Type': <ProcessType.REVERSE_SESSION: 9>},\n",
      "                               {'Connections': [{'Status': <ProcessState.OPEN: 2>,\n",
      "                                                 'local_address': IPv4Address('10.0.19.200'),\n",
      "                                                 'local_port': 443}],\n",
      "                                'Process Type': <ProcessType.WEBSERVER: 5>}],\n",
      "                 'Sessions': [{'Agent': 'Red',\n",
      "                               'ID': 4,\n",
      "                               'Type': <SessionType.RED_REVERSE_SHELL: 11>}],\n",
      "                 'System info': {'Hostname': 'Enterprise1',\n",
      "                                 'OSType': <OperatingSystemType.WINDOWS: 2>}},\n",
      " 'success': <TrinaryEnum.TRUE: 1>}\n",
      "{0: True}\n"
     ]
    }
   ],
   "source": [
    "results = step_red(red_obs)\n",
    "red_obs = results.observation\n",
    "session = action_space['session']\n",
    "print(session)"
   ]
  },
  {
   "cell_type": "code",
   "execution_count": 22,
   "metadata": {},
   "outputs": [
    {
     "name": "stdout",
     "output_type": "stream",
     "text": [
      "Meander Action: PrivilegeEscalate Enterprise1\n",
      "Meander Scanned Subnets: [IPv4Network('10.0.110.224/28'), IPv4Network('10.0.19.192/28')]\n",
      "Meander Scanned IP Addresses: [IPv4Address('10.0.110.232'), IPv4Address('10.0.110.236'), IPv4Address('10.0.110.237'), IPv4Address('10.0.110.227'), IPv4Address('10.0.110.235'), IPv4Address('10.0.19.200'), IPv4Address('10.0.19.199'), IPv4Address('10.0.19.194'), IPv4Address('10.0.19.195')]\n",
      "Meander Exploited IP Addresses: [IPv4Address('10.0.110.232'), IPv4Address('10.0.110.236'), IPv4Address('10.0.19.199'), IPv4Address('10.0.19.200')]\n",
      "Meander Escalated Hosts: ['User0', 'User1', 'User4', 'Enterprise0', 'Enterprise1']\n",
      "Meander Host IP Address Mapping: {'User1': IPv4Address('10.0.110.232'), 'User4': IPv4Address('10.0.110.236'), 'Enterprise0': IPv4Address('10.0.19.199'), 'Enterprise1': IPv4Address('10.0.19.200')}\n",
      "Meander Last Host: Enterprise1\n",
      "Meander Last IP Address: None\n",
      "----------------------------------------------------------------------------\n",
      "{'Enterprise1': {'Interface': [{'IP Address': IPv4Address('10.0.19.200'),\n",
      "                                'Interface Name': 'eth0',\n",
      "                                'Subnet': IPv4Network('10.0.19.192/28')}],\n",
      "                 'Sessions': [{'Agent': 'Red',\n",
      "                               'ID': 4,\n",
      "                               'Type': <SessionType.RED_REVERSE_SHELL: 11>,\n",
      "                               'Username': 'SYSTEM'}]},\n",
      " 'success': <TrinaryEnum.TRUE: 1>}\n",
      "{0: True}\n"
     ]
    }
   ],
   "source": [
    "results = step_red(red_obs)\n",
    "red_obs = results.observation\n",
    "session = action_space['session']\n",
    "print(session)"
   ]
  },
  {
   "cell_type": "code",
   "execution_count": 23,
   "metadata": {},
   "outputs": [
    {
     "name": "stdout",
     "output_type": "stream",
     "text": [
      "Meander Action: ExploitRemoteService 10.0.110.237\n",
      "Meander Scanned Subnets: [IPv4Network('10.0.110.224/28'), IPv4Network('10.0.19.192/28')]\n",
      "Meander Scanned IP Addresses: [IPv4Address('10.0.110.232'), IPv4Address('10.0.110.236'), IPv4Address('10.0.110.237'), IPv4Address('10.0.110.227'), IPv4Address('10.0.110.235'), IPv4Address('10.0.19.200'), IPv4Address('10.0.19.199'), IPv4Address('10.0.19.194'), IPv4Address('10.0.19.195')]\n",
      "Meander Exploited IP Addresses: [IPv4Address('10.0.110.232'), IPv4Address('10.0.110.236'), IPv4Address('10.0.19.199'), IPv4Address('10.0.19.200'), IPv4Address('10.0.110.237')]\n",
      "Meander Escalated Hosts: ['User0', 'User1', 'User4', 'Enterprise0', 'Enterprise1']\n",
      "Meander Host IP Address Mapping: {'User1': IPv4Address('10.0.110.232'), 'User4': IPv4Address('10.0.110.236'), 'Enterprise0': IPv4Address('10.0.19.199'), 'Enterprise1': IPv4Address('10.0.19.200')}\n",
      "Meander Last Host: None\n",
      "Meander Last IP Address: 10.0.110.237\n",
      "----------------------------------------------------------------------------\n",
      "{'10.0.110.235': {'Interface': [{'IP Address': IPv4Address('10.0.110.235')}],\n",
      "                  'Processes': [{'Connections': [{'local_address': IPv4Address('10.0.110.235'),\n",
      "                                                  'local_port': 4444,\n",
      "                                                  'remote_address': IPv4Address('10.0.110.237'),\n",
      "                                                  'remote_port': 51395}],\n",
      "                                 'Process Type': <ProcessType.REVERSE_SESSION_HANDLER: 8>}]},\n",
      " '10.0.110.237': {'Interface': [{'IP Address': IPv4Address('10.0.110.237')}],\n",
      "                  'Processes': [{'Connections': [{'local_address': IPv4Address('10.0.110.237'),\n",
      "                                                  'local_port': 51395,\n",
      "                                                  'remote_address': IPv4Address('10.0.110.235'),\n",
      "                                                  'remote_port': 4444}],\n",
      "                                 'Process Type': <ProcessType.REVERSE_SESSION: 9>},\n",
      "                                {'Connections': [{'Status': <ProcessState.OPEN: 2>,\n",
      "                                                  'local_address': IPv4Address('10.0.110.237'),\n",
      "                                                  'local_port': 139}],\n",
      "                                 'Process Type': <ProcessType.SMB: 4>}],\n",
      "                  'Sessions': [{'Agent': 'Red',\n",
      "                                'ID': 5,\n",
      "                                'Type': <SessionType.RED_REVERSE_SHELL: 11>}],\n",
      "                  'System info': {'Hostname': 'User2',\n",
      "                                  'OSType': <OperatingSystemType.WINDOWS: 2>}},\n",
      " 'success': <TrinaryEnum.TRUE: 1>}\n",
      "{0: True}\n"
     ]
    }
   ],
   "source": [
    "results = step_red(red_obs)\n",
    "red_obs = results.observation\n",
    "session = action_space['session']\n",
    "print(session)"
   ]
  },
  {
   "cell_type": "code",
   "execution_count": 24,
   "metadata": {},
   "outputs": [
    {
     "name": "stdout",
     "output_type": "stream",
     "text": [
      "Meander Action: PrivilegeEscalate User2\n",
      "Meander Scanned Subnets: [IPv4Network('10.0.110.224/28'), IPv4Network('10.0.19.192/28')]\n",
      "Meander Scanned IP Addresses: [IPv4Address('10.0.110.232'), IPv4Address('10.0.110.236'), IPv4Address('10.0.110.237'), IPv4Address('10.0.110.227'), IPv4Address('10.0.110.235'), IPv4Address('10.0.19.200'), IPv4Address('10.0.19.199'), IPv4Address('10.0.19.194'), IPv4Address('10.0.19.195')]\n",
      "Meander Exploited IP Addresses: [IPv4Address('10.0.110.232'), IPv4Address('10.0.110.236'), IPv4Address('10.0.19.199'), IPv4Address('10.0.19.200'), IPv4Address('10.0.110.237')]\n",
      "Meander Escalated Hosts: ['User0', 'User1', 'User4', 'Enterprise0', 'Enterprise1', 'User2']\n",
      "Meander Host IP Address Mapping: {'User1': IPv4Address('10.0.110.232'), 'User4': IPv4Address('10.0.110.236'), 'Enterprise0': IPv4Address('10.0.19.199'), 'Enterprise1': IPv4Address('10.0.19.200'), 'User2': IPv4Address('10.0.110.237')}\n",
      "Meander Last Host: User2\n",
      "Meander Last IP Address: None\n",
      "----------------------------------------------------------------------------\n",
      "{'Enterprise1': {'Interface': [{'IP Address': IPv4Address('10.0.19.200')}]},\n",
      " 'User2': {'Interface': [{'IP Address': IPv4Address('10.0.110.237'),\n",
      "                          'Interface Name': 'eth0',\n",
      "                          'Subnet': IPv4Network('10.0.110.224/28')}],\n",
      "           'Processes': [{'PID': 16494, 'Username': 'SYSTEM'}],\n",
      "           'Sessions': [{'Agent': 'Red',\n",
      "                         'ID': 5,\n",
      "                         'PID': 16494,\n",
      "                         'Timeout': 0,\n",
      "                         'Type': <SessionType.RED_REVERSE_SHELL: 11>,\n",
      "                         'Username': 'SYSTEM'}]},\n",
      " 'success': <TrinaryEnum.TRUE: 1>}\n",
      "{0: True}\n"
     ]
    }
   ],
   "source": [
    "results = step_red(red_obs)\n",
    "red_obs = results.observation\n",
    "session = action_space['session']\n",
    "print(session)"
   ]
  },
  {
   "cell_type": "code",
   "execution_count": 25,
   "metadata": {},
   "outputs": [
    {
     "name": "stdout",
     "output_type": "stream",
     "text": [
      "Meander Action: ExploitRemoteService 10.0.19.194\n",
      "Meander Scanned Subnets: [IPv4Network('10.0.110.224/28'), IPv4Network('10.0.19.192/28')]\n",
      "Meander Scanned IP Addresses: [IPv4Address('10.0.110.232'), IPv4Address('10.0.110.236'), IPv4Address('10.0.110.237'), IPv4Address('10.0.110.227'), IPv4Address('10.0.110.235'), IPv4Address('10.0.19.200'), IPv4Address('10.0.19.199'), IPv4Address('10.0.19.194'), IPv4Address('10.0.19.195')]\n",
      "Meander Exploited IP Addresses: [IPv4Address('10.0.110.232'), IPv4Address('10.0.110.236'), IPv4Address('10.0.19.199'), IPv4Address('10.0.19.200'), IPv4Address('10.0.110.237'), IPv4Address('10.0.19.194')]\n",
      "Meander Escalated Hosts: ['User0', 'User1', 'User4', 'Enterprise0', 'Enterprise1', 'User2']\n",
      "Meander Host IP Address Mapping: {'User1': IPv4Address('10.0.110.232'), 'User4': IPv4Address('10.0.110.236'), 'Enterprise0': IPv4Address('10.0.19.199'), 'Enterprise1': IPv4Address('10.0.19.200'), 'User2': IPv4Address('10.0.110.237')}\n",
      "Meander Last Host: None\n",
      "Meander Last IP Address: 10.0.19.194\n",
      "----------------------------------------------------------------------------\n",
      "{'10.0.110.235': {'Interface': [{'IP Address': IPv4Address('10.0.110.235')}],\n",
      "                  'Processes': [{'Connections': [{'local_address': IPv4Address('10.0.110.235'),\n",
      "                                                  'local_port': 4444,\n",
      "                                                  'remote_address': IPv4Address('10.0.19.194'),\n",
      "                                                  'remote_port': 54258}],\n",
      "                                 'Process Type': <ProcessType.REVERSE_SESSION_HANDLER: 8>}]},\n",
      " '10.0.19.194': {'Interface': [{'IP Address': IPv4Address('10.0.19.194')}],\n",
      "                 'Processes': [{'Connections': [{'local_address': IPv4Address('10.0.19.194'),\n",
      "                                                 'local_port': 54258,\n",
      "                                                 'remote_address': IPv4Address('10.0.110.235'),\n",
      "                                                 'remote_port': 4444}],\n",
      "                                'Process Type': <ProcessType.REVERSE_SESSION: 9>},\n",
      "                               {'Connections': [{'Status': <ProcessState.OPEN: 2>,\n",
      "                                                 'local_address': IPv4Address('10.0.19.194'),\n",
      "                                                 'local_port': 443}],\n",
      "                                'Process Type': <ProcessType.WEBSERVER: 5>}],\n",
      "                 'Sessions': [{'Agent': 'Red',\n",
      "                               'ID': 6,\n",
      "                               'Type': <SessionType.RED_REVERSE_SHELL: 11>}],\n",
      "                 'System info': {'Hostname': 'Enterprise2',\n",
      "                                 'OSType': <OperatingSystemType.WINDOWS: 2>}},\n",
      " 'success': <TrinaryEnum.TRUE: 1>}\n",
      "{0: True}\n"
     ]
    }
   ],
   "source": [
    "results = step_red(red_obs)\n",
    "red_obs = results.observation\n",
    "session = action_space['session']\n",
    "print(session)"
   ]
  },
  {
   "cell_type": "code",
   "execution_count": 26,
   "metadata": {},
   "outputs": [
    {
     "name": "stdout",
     "output_type": "stream",
     "text": [
      "Meander Action: PrivilegeEscalate Enterprise2\n",
      "Meander Scanned Subnets: [IPv4Network('10.0.110.224/28'), IPv4Network('10.0.19.192/28')]\n",
      "Meander Scanned IP Addresses: [IPv4Address('10.0.110.232'), IPv4Address('10.0.110.236'), IPv4Address('10.0.110.237'), IPv4Address('10.0.110.227'), IPv4Address('10.0.110.235'), IPv4Address('10.0.19.200'), IPv4Address('10.0.19.199'), IPv4Address('10.0.19.194'), IPv4Address('10.0.19.195')]\n",
      "Meander Exploited IP Addresses: [IPv4Address('10.0.110.232'), IPv4Address('10.0.110.236'), IPv4Address('10.0.19.199'), IPv4Address('10.0.19.200'), IPv4Address('10.0.110.237'), IPv4Address('10.0.19.194')]\n",
      "Meander Escalated Hosts: ['User0', 'User1', 'User4', 'Enterprise0', 'Enterprise1', 'User2', 'Enterprise2']\n",
      "Meander Host IP Address Mapping: {'User1': IPv4Address('10.0.110.232'), 'User4': IPv4Address('10.0.110.236'), 'Enterprise0': IPv4Address('10.0.19.199'), 'Enterprise1': IPv4Address('10.0.19.200'), 'User2': IPv4Address('10.0.110.237'), 'Enterprise2': IPv4Address('10.0.19.194')}\n",
      "Meander Last Host: Enterprise2\n",
      "Meander Last IP Address: None\n",
      "----------------------------------------------------------------------------\n",
      "{'Enterprise2': {'Interface': [{'IP Address': IPv4Address('10.0.19.194'),\n",
      "                                'Interface Name': 'eth0',\n",
      "                                'Subnet': IPv4Network('10.0.19.192/28')}],\n",
      "                 'Sessions': [{'Agent': 'Red',\n",
      "                               'ID': 6,\n",
      "                               'Type': <SessionType.RED_REVERSE_SHELL: 11>,\n",
      "                               'Username': 'SYSTEM'}]},\n",
      " 'Op_Server0': {'Interface': [{'IP Address': IPv4Address('10.0.156.81')}]},\n",
      " 'success': <TrinaryEnum.TRUE: 1>}\n",
      "{0: True}\n"
     ]
    }
   ],
   "source": [
    "results = step_red(red_obs)\n",
    "red_obs = results.observation\n",
    "session = action_space['session']\n",
    "print(session)"
   ]
  },
  {
   "cell_type": "code",
   "execution_count": 27,
   "metadata": {},
   "outputs": [
    {
     "name": "stdout",
     "output_type": "stream",
     "text": [
      "Meander Action: DiscoverNetworkServices 10.0.156.81\n",
      "Meander Scanned Subnets: [IPv4Network('10.0.110.224/28'), IPv4Network('10.0.19.192/28')]\n",
      "Meander Scanned IP Addresses: [IPv4Address('10.0.110.232'), IPv4Address('10.0.110.236'), IPv4Address('10.0.110.237'), IPv4Address('10.0.110.227'), IPv4Address('10.0.110.235'), IPv4Address('10.0.19.200'), IPv4Address('10.0.19.199'), IPv4Address('10.0.19.194'), IPv4Address('10.0.19.195'), IPv4Address('10.0.156.81')]\n",
      "Meander Exploited IP Addresses: [IPv4Address('10.0.110.232'), IPv4Address('10.0.110.236'), IPv4Address('10.0.19.199'), IPv4Address('10.0.19.200'), IPv4Address('10.0.110.237'), IPv4Address('10.0.19.194')]\n",
      "Meander Escalated Hosts: ['User0', 'User1', 'User4', 'Enterprise0', 'Enterprise1', 'User2', 'Enterprise2']\n",
      "Meander Host IP Address Mapping: {'User1': IPv4Address('10.0.110.232'), 'User4': IPv4Address('10.0.110.236'), 'Enterprise0': IPv4Address('10.0.19.199'), 'Enterprise1': IPv4Address('10.0.19.200'), 'User2': IPv4Address('10.0.110.237'), 'Enterprise2': IPv4Address('10.0.19.194')}\n",
      "Meander Last Host: None\n",
      "Meander Last IP Address: None\n",
      "----------------------------------------------------------------------------\n",
      "{'10.0.156.81': {'Interface': [{'IP Address': IPv4Address('10.0.156.81')}],\n",
      "                 'Processes': [{'Connections': [{'local_address': IPv4Address('10.0.156.81'),\n",
      "                                                 'local_port': 22}]}]},\n",
      " 'success': <TrinaryEnum.TRUE: 1>}\n",
      "{0: True}\n"
     ]
    }
   ],
   "source": [
    "results = step_red(red_obs)\n",
    "red_obs = results.observation\n",
    "session = action_space['session']\n",
    "print(session)"
   ]
  },
  {
   "cell_type": "code",
   "execution_count": 28,
   "metadata": {},
   "outputs": [
    {
     "name": "stdout",
     "output_type": "stream",
     "text": [
      "Meander Action: ExploitRemoteService 10.0.110.235\n",
      "Meander Scanned Subnets: [IPv4Network('10.0.110.224/28'), IPv4Network('10.0.19.192/28')]\n",
      "Meander Scanned IP Addresses: [IPv4Address('10.0.110.232'), IPv4Address('10.0.110.236'), IPv4Address('10.0.110.237'), IPv4Address('10.0.110.227'), IPv4Address('10.0.110.235'), IPv4Address('10.0.19.200'), IPv4Address('10.0.19.199'), IPv4Address('10.0.19.194'), IPv4Address('10.0.19.195'), IPv4Address('10.0.156.81')]\n",
      "Meander Exploited IP Addresses: [IPv4Address('10.0.110.232'), IPv4Address('10.0.110.236'), IPv4Address('10.0.19.199'), IPv4Address('10.0.19.200'), IPv4Address('10.0.110.237'), IPv4Address('10.0.19.194'), IPv4Address('10.0.110.235')]\n",
      "Meander Escalated Hosts: ['User0', 'User1', 'User4', 'Enterprise0', 'Enterprise1', 'User2', 'Enterprise2']\n",
      "Meander Host IP Address Mapping: {'User1': IPv4Address('10.0.110.232'), 'User4': IPv4Address('10.0.110.236'), 'Enterprise0': IPv4Address('10.0.19.199'), 'Enterprise1': IPv4Address('10.0.19.200'), 'User2': IPv4Address('10.0.110.237'), 'Enterprise2': IPv4Address('10.0.19.194')}\n",
      "Meander Last Host: None\n",
      "Meander Last IP Address: 10.0.110.235\n",
      "----------------------------------------------------------------------------\n",
      "{'success': <TrinaryEnum.FALSE: 3>}\n",
      "{0: True}\n"
     ]
    }
   ],
   "source": [
    "results = step_red(red_obs)\n",
    "red_obs = results.observation\n",
    "session = action_space['session']\n",
    "print(session)"
   ]
  },
  {
   "cell_type": "code",
   "execution_count": 29,
   "metadata": {},
   "outputs": [
    {
     "name": "stdout",
     "output_type": "stream",
     "text": [
      "Meander Action: PrivilegeEscalate Enterprise0\n",
      "Meander Scanned Subnets: [IPv4Network('10.0.110.224/28'), IPv4Network('10.0.19.192/28')]\n",
      "Meander Scanned IP Addresses: [IPv4Address('10.0.110.232'), IPv4Address('10.0.110.236'), IPv4Address('10.0.110.237'), IPv4Address('10.0.110.227'), IPv4Address('10.0.110.235'), IPv4Address('10.0.19.200'), IPv4Address('10.0.19.199'), IPv4Address('10.0.19.194'), IPv4Address('10.0.19.195'), IPv4Address('10.0.156.81')]\n",
      "Meander Exploited IP Addresses: [IPv4Address('10.0.110.232'), IPv4Address('10.0.110.236'), IPv4Address('10.0.19.199'), IPv4Address('10.0.19.200'), IPv4Address('10.0.110.237'), IPv4Address('10.0.19.194'), IPv4Address('10.0.110.235')]\n",
      "Meander Escalated Hosts: ['Enterprise0']\n",
      "Meander Host IP Address Mapping: {'User1': IPv4Address('10.0.110.232'), 'User4': IPv4Address('10.0.110.236'), 'Enterprise0': IPv4Address('10.0.19.199'), 'Enterprise1': IPv4Address('10.0.19.200'), 'User2': IPv4Address('10.0.110.237'), 'Enterprise2': IPv4Address('10.0.19.194')}\n",
      "Meander Last Host: Enterprise0\n",
      "Meander Last IP Address: None\n",
      "----------------------------------------------------------------------------\n",
      "{'Enterprise0': {'Interface': [{'IP Address': IPv4Address('10.0.19.199'),\n",
      "                                'Interface Name': 'eth0',\n",
      "                                'Subnet': IPv4Network('10.0.19.192/28')}],\n",
      "                 'Processes': [{'PID': 18628, 'Username': 'root'}],\n",
      "                 'Sessions': [{'Agent': 'Red',\n",
      "                               'ID': 3,\n",
      "                               'PID': 18628,\n",
      "                               'Timeout': 0,\n",
      "                               'Type': <SessionType.SSH: 2>,\n",
      "                               'Username': 'root'}]},\n",
      " 'success': <TrinaryEnum.TRUE: 1>}\n",
      "{0: True}\n"
     ]
    }
   ],
   "source": [
    "results = step_red(red_obs)\n",
    "red_obs = results.observation\n",
    "session = action_space['session']\n",
    "print(session)"
   ]
  },
  {
   "cell_type": "code",
   "execution_count": 30,
   "metadata": {},
   "outputs": [
    {
     "name": "stdout",
     "output_type": "stream",
     "text": [
      "Meander Action: PrivilegeEscalate Enterprise1\n",
      "Meander Scanned Subnets: [IPv4Network('10.0.110.224/28'), IPv4Network('10.0.19.192/28')]\n",
      "Meander Scanned IP Addresses: [IPv4Address('10.0.110.232'), IPv4Address('10.0.110.236'), IPv4Address('10.0.110.237'), IPv4Address('10.0.110.227'), IPv4Address('10.0.110.235'), IPv4Address('10.0.19.200'), IPv4Address('10.0.19.199'), IPv4Address('10.0.19.194'), IPv4Address('10.0.19.195'), IPv4Address('10.0.156.81')]\n",
      "Meander Exploited IP Addresses: [IPv4Address('10.0.110.232'), IPv4Address('10.0.110.236'), IPv4Address('10.0.19.199'), IPv4Address('10.0.19.200'), IPv4Address('10.0.110.237'), IPv4Address('10.0.19.194'), IPv4Address('10.0.110.235')]\n",
      "Meander Escalated Hosts: ['Enterprise0', 'Enterprise1']\n",
      "Meander Host IP Address Mapping: {'User1': IPv4Address('10.0.110.232'), 'User4': IPv4Address('10.0.110.236'), 'Enterprise0': IPv4Address('10.0.19.199'), 'Enterprise1': IPv4Address('10.0.19.200'), 'User2': IPv4Address('10.0.110.237'), 'Enterprise2': IPv4Address('10.0.19.194')}\n",
      "Meander Last Host: Enterprise1\n",
      "Meander Last IP Address: None\n",
      "----------------------------------------------------------------------------\n",
      "{'Enterprise1': {'Interface': [{'IP Address': IPv4Address('10.0.19.200'),\n",
      "                                'Interface Name': 'eth0',\n",
      "                                'Subnet': IPv4Network('10.0.19.192/28')}],\n",
      "                 'Processes': [{'PID': 28741, 'Username': 'SYSTEM'}],\n",
      "                 'Sessions': [{'Agent': 'Red',\n",
      "                               'ID': 4,\n",
      "                               'PID': 28741,\n",
      "                               'Timeout': 0,\n",
      "                               'Type': <SessionType.RED_REVERSE_SHELL: 11>,\n",
      "                               'Username': 'SYSTEM'}]},\n",
      " 'success': <TrinaryEnum.TRUE: 1>}\n"
     ]
    }
   ],
   "source": [
    "results = step_red(red_obs)\n",
    "red_obs = results.observation"
   ]
  },
  {
   "cell_type": "code",
   "execution_count": 31,
   "metadata": {},
   "outputs": [
    {
     "name": "stdout",
     "output_type": "stream",
     "text": [
      "Meander Action: PrivilegeEscalate Enterprise2\n",
      "Meander Scanned Subnets: [IPv4Network('10.0.110.224/28'), IPv4Network('10.0.19.192/28')]\n",
      "Meander Scanned IP Addresses: [IPv4Address('10.0.110.232'), IPv4Address('10.0.110.236'), IPv4Address('10.0.110.237'), IPv4Address('10.0.110.227'), IPv4Address('10.0.110.235'), IPv4Address('10.0.19.200'), IPv4Address('10.0.19.199'), IPv4Address('10.0.19.194'), IPv4Address('10.0.19.195'), IPv4Address('10.0.156.81')]\n",
      "Meander Exploited IP Addresses: [IPv4Address('10.0.110.232'), IPv4Address('10.0.110.236'), IPv4Address('10.0.19.199'), IPv4Address('10.0.19.200'), IPv4Address('10.0.110.237'), IPv4Address('10.0.19.194'), IPv4Address('10.0.110.235')]\n",
      "Meander Escalated Hosts: ['Enterprise0', 'Enterprise1', 'Enterprise2']\n",
      "Meander Host IP Address Mapping: {'User1': IPv4Address('10.0.110.232'), 'User4': IPv4Address('10.0.110.236'), 'Enterprise0': IPv4Address('10.0.19.199'), 'Enterprise1': IPv4Address('10.0.19.200'), 'User2': IPv4Address('10.0.110.237'), 'Enterprise2': IPv4Address('10.0.19.194')}\n",
      "Meander Last Host: Enterprise2\n",
      "Meander Last IP Address: None\n",
      "----------------------------------------------------------------------------\n",
      "{'Enterprise2': {'Interface': [{'IP Address': IPv4Address('10.0.19.194'),\n",
      "                                'Interface Name': 'eth0',\n",
      "                                'Subnet': IPv4Network('10.0.19.192/28')}],\n",
      "                 'Processes': [{'PID': 19606, 'Username': 'SYSTEM'}],\n",
      "                 'Sessions': [{'Agent': 'Red',\n",
      "                               'ID': 6,\n",
      "                               'PID': 19606,\n",
      "                               'Timeout': 0,\n",
      "                               'Type': <SessionType.RED_REVERSE_SHELL: 11>,\n",
      "                               'Username': 'SYSTEM'}]},\n",
      " 'Op_Server0': {'Interface': [{'IP Address': IPv4Address('10.0.156.81')}]},\n",
      " 'success': <TrinaryEnum.TRUE: 1>}\n"
     ]
    }
   ],
   "source": [
    "results = step_red(red_obs)\n",
    "red_obs = results.observation"
   ]
  },
  {
   "cell_type": "code",
   "execution_count": 32,
   "metadata": {},
   "outputs": [
    {
     "name": "stdout",
     "output_type": "stream",
     "text": [
      "Meander Action: PrivilegeEscalate User0\n",
      "Meander Scanned Subnets: [IPv4Network('10.0.110.224/28'), IPv4Network('10.0.19.192/28')]\n",
      "Meander Scanned IP Addresses: [IPv4Address('10.0.110.232'), IPv4Address('10.0.110.236'), IPv4Address('10.0.110.237'), IPv4Address('10.0.110.227'), IPv4Address('10.0.110.235'), IPv4Address('10.0.19.200'), IPv4Address('10.0.19.199'), IPv4Address('10.0.19.194'), IPv4Address('10.0.19.195'), IPv4Address('10.0.156.81')]\n",
      "Meander Exploited IP Addresses: [IPv4Address('10.0.110.232'), IPv4Address('10.0.110.236'), IPv4Address('10.0.19.199'), IPv4Address('10.0.19.200'), IPv4Address('10.0.110.237'), IPv4Address('10.0.19.194'), IPv4Address('10.0.110.235')]\n",
      "Meander Escalated Hosts: ['Enterprise0', 'Enterprise1', 'Enterprise2', 'User0']\n",
      "Meander Host IP Address Mapping: {'User1': IPv4Address('10.0.110.232'), 'User4': IPv4Address('10.0.110.236'), 'Enterprise0': IPv4Address('10.0.19.199'), 'Enterprise1': IPv4Address('10.0.19.200'), 'User2': IPv4Address('10.0.110.237'), 'Enterprise2': IPv4Address('10.0.19.194')}\n",
      "Meander Last Host: User0\n",
      "Meander Last IP Address: None\n",
      "----------------------------------------------------------------------------\n",
      "{'User0': {'Interface': [{'IP Address': IPv4Address('10.0.110.235'),\n",
      "                          'Interface Name': 'eth0',\n",
      "                          'Subnet': IPv4Network('10.0.110.224/28')}],\n",
      "           'Processes': [{'PID': 13796, 'Username': 'SYSTEM'}],\n",
      "           'Sessions': [{'Agent': 'Red',\n",
      "                         'ID': 0,\n",
      "                         'PID': 13796,\n",
      "                         'Timeout': 0,\n",
      "                         'Type': <SessionType.RED_ABSTRACT_SESSION: 10>,\n",
      "                         'Username': 'SYSTEM'}]},\n",
      " 'success': <TrinaryEnum.TRUE: 1>}\n"
     ]
    }
   ],
   "source": [
    "results = step_red(red_obs)\n",
    "red_obs = results.observation"
   ]
  },
  {
   "cell_type": "code",
   "execution_count": 33,
   "metadata": {},
   "outputs": [
    {
     "name": "stdout",
     "output_type": "stream",
     "text": [
      "Meander Action: PrivilegeEscalate User1\n",
      "Meander Scanned Subnets: [IPv4Network('10.0.110.224/28'), IPv4Network('10.0.19.192/28')]\n",
      "Meander Scanned IP Addresses: [IPv4Address('10.0.110.232'), IPv4Address('10.0.110.236'), IPv4Address('10.0.110.237'), IPv4Address('10.0.110.227'), IPv4Address('10.0.110.235'), IPv4Address('10.0.19.200'), IPv4Address('10.0.19.199'), IPv4Address('10.0.19.194'), IPv4Address('10.0.19.195'), IPv4Address('10.0.156.81')]\n",
      "Meander Exploited IP Addresses: [IPv4Address('10.0.110.232'), IPv4Address('10.0.110.236'), IPv4Address('10.0.19.199'), IPv4Address('10.0.19.200'), IPv4Address('10.0.110.237'), IPv4Address('10.0.19.194'), IPv4Address('10.0.110.235')]\n",
      "Meander Escalated Hosts: ['Enterprise0', 'Enterprise1', 'Enterprise2', 'User0', 'User1']\n",
      "Meander Host IP Address Mapping: {'User1': IPv4Address('10.0.110.232'), 'User4': IPv4Address('10.0.110.236'), 'Enterprise0': IPv4Address('10.0.19.199'), 'Enterprise1': IPv4Address('10.0.19.200'), 'User2': IPv4Address('10.0.110.237'), 'Enterprise2': IPv4Address('10.0.19.194')}\n",
      "Meander Last Host: User1\n",
      "Meander Last IP Address: None\n",
      "----------------------------------------------------------------------------\n",
      "{'Enterprise1': {'Interface': [{'IP Address': IPv4Address('10.0.19.200')}]},\n",
      " 'User1': {'Interface': [{'IP Address': IPv4Address('10.0.110.232'),\n",
      "                          'Interface Name': 'eth0',\n",
      "                          'Subnet': IPv4Network('10.0.110.224/28')}],\n",
      "           'Processes': [{'PID': 8725, 'Username': 'SYSTEM'}],\n",
      "           'Sessions': [{'Agent': 'Red',\n",
      "                         'ID': 1,\n",
      "                         'PID': 8725,\n",
      "                         'Timeout': 0,\n",
      "                         'Type': <SessionType.RED_REVERSE_SHELL: 11>,\n",
      "                         'Username': 'SYSTEM'}]},\n",
      " 'success': <TrinaryEnum.TRUE: 1>}\n"
     ]
    }
   ],
   "source": [
    "results = step_red(red_obs)\n",
    "red_obs = results.observation"
   ]
  },
  {
   "cell_type": "code",
   "execution_count": 34,
   "metadata": {},
   "outputs": [
    {
     "name": "stdout",
     "output_type": "stream",
     "text": [
      "Meander Action: PrivilegeEscalate User2\n",
      "Meander Scanned Subnets: [IPv4Network('10.0.110.224/28'), IPv4Network('10.0.19.192/28')]\n",
      "Meander Scanned IP Addresses: [IPv4Address('10.0.110.232'), IPv4Address('10.0.110.236'), IPv4Address('10.0.110.237'), IPv4Address('10.0.110.227'), IPv4Address('10.0.110.235'), IPv4Address('10.0.19.200'), IPv4Address('10.0.19.199'), IPv4Address('10.0.19.194'), IPv4Address('10.0.19.195'), IPv4Address('10.0.156.81')]\n",
      "Meander Exploited IP Addresses: [IPv4Address('10.0.110.232'), IPv4Address('10.0.110.236'), IPv4Address('10.0.19.199'), IPv4Address('10.0.19.200'), IPv4Address('10.0.110.237'), IPv4Address('10.0.19.194'), IPv4Address('10.0.110.235')]\n",
      "Meander Escalated Hosts: ['Enterprise0', 'Enterprise1', 'Enterprise2', 'User0', 'User1', 'User2']\n",
      "Meander Host IP Address Mapping: {'User1': IPv4Address('10.0.110.232'), 'User4': IPv4Address('10.0.110.236'), 'Enterprise0': IPv4Address('10.0.19.199'), 'Enterprise1': IPv4Address('10.0.19.200'), 'User2': IPv4Address('10.0.110.237'), 'Enterprise2': IPv4Address('10.0.19.194')}\n",
      "Meander Last Host: User2\n",
      "Meander Last IP Address: None\n",
      "----------------------------------------------------------------------------\n",
      "{'Enterprise1': {'Interface': [{'IP Address': IPv4Address('10.0.19.200')}]},\n",
      " 'User2': {'Interface': [{'IP Address': IPv4Address('10.0.110.237'),\n",
      "                          'Interface Name': 'eth0',\n",
      "                          'Subnet': IPv4Network('10.0.110.224/28')}],\n",
      "           'Processes': [{'PID': 16494, 'Username': 'SYSTEM'}],\n",
      "           'Sessions': [{'Agent': 'Red',\n",
      "                         'ID': 5,\n",
      "                         'PID': 16494,\n",
      "                         'Timeout': 0,\n",
      "                         'Type': <SessionType.RED_REVERSE_SHELL: 11>,\n",
      "                         'Username': 'SYSTEM'}]},\n",
      " 'success': <TrinaryEnum.TRUE: 1>}\n"
     ]
    }
   ],
   "source": [
    "results = step_red(red_obs)\n",
    "red_obs = results.observation"
   ]
  },
  {
   "cell_type": "code",
   "execution_count": 35,
   "metadata": {},
   "outputs": [
    {
     "name": "stdout",
     "output_type": "stream",
     "text": [
      "Meander Action: PrivilegeEscalate User4\n",
      "Meander Scanned Subnets: [IPv4Network('10.0.110.224/28'), IPv4Network('10.0.19.192/28')]\n",
      "Meander Scanned IP Addresses: [IPv4Address('10.0.110.232'), IPv4Address('10.0.110.236'), IPv4Address('10.0.110.237'), IPv4Address('10.0.110.227'), IPv4Address('10.0.110.235'), IPv4Address('10.0.19.200'), IPv4Address('10.0.19.199'), IPv4Address('10.0.19.194'), IPv4Address('10.0.19.195'), IPv4Address('10.0.156.81')]\n",
      "Meander Exploited IP Addresses: [IPv4Address('10.0.110.232'), IPv4Address('10.0.110.236'), IPv4Address('10.0.19.199'), IPv4Address('10.0.19.200'), IPv4Address('10.0.110.237'), IPv4Address('10.0.19.194'), IPv4Address('10.0.110.235')]\n",
      "Meander Escalated Hosts: ['Enterprise0', 'Enterprise1', 'Enterprise2', 'User0', 'User1', 'User2', 'User4']\n",
      "Meander Host IP Address Mapping: {'User1': IPv4Address('10.0.110.232'), 'User4': IPv4Address('10.0.110.236'), 'Enterprise0': IPv4Address('10.0.19.199'), 'Enterprise1': IPv4Address('10.0.19.200'), 'User2': IPv4Address('10.0.110.237'), 'Enterprise2': IPv4Address('10.0.19.194')}\n",
      "Meander Last Host: User4\n",
      "Meander Last IP Address: None\n",
      "----------------------------------------------------------------------------\n",
      "{'Enterprise0': {'Interface': [{'IP Address': IPv4Address('10.0.19.199')}]},\n",
      " 'User4': {'Interface': [{'IP Address': IPv4Address('10.0.110.236'),\n",
      "                          'Interface Name': 'eth0',\n",
      "                          'Subnet': IPv4Network('10.0.110.224/28')}],\n",
      "           'Processes': [{'PID': 22709, 'Username': 'root'}],\n",
      "           'Sessions': [{'Agent': 'Red',\n",
      "                         'ID': 2,\n",
      "                         'PID': 22709,\n",
      "                         'Timeout': 0,\n",
      "                         'Type': <SessionType.RED_REVERSE_SHELL: 11>,\n",
      "                         'Username': 'root'}]},\n",
      " 'success': <TrinaryEnum.TRUE: 1>}\n"
     ]
    }
   ],
   "source": [
    "results = step_red(red_obs)\n",
    "red_obs = results.observation"
   ]
  },
  {
   "cell_type": "code",
   "execution_count": 36,
   "metadata": {},
   "outputs": [
    {
     "name": "stdout",
     "output_type": "stream",
     "text": [
      "Meander Action: ExploitRemoteService 10.0.19.195\n",
      "Meander Scanned Subnets: [IPv4Network('10.0.110.224/28'), IPv4Network('10.0.19.192/28')]\n",
      "Meander Scanned IP Addresses: [IPv4Address('10.0.110.232'), IPv4Address('10.0.110.236'), IPv4Address('10.0.110.237'), IPv4Address('10.0.110.227'), IPv4Address('10.0.110.235'), IPv4Address('10.0.19.200'), IPv4Address('10.0.19.199'), IPv4Address('10.0.19.194'), IPv4Address('10.0.19.195'), IPv4Address('10.0.156.81')]\n",
      "Meander Exploited IP Addresses: [IPv4Address('10.0.110.232'), IPv4Address('10.0.110.236'), IPv4Address('10.0.19.199'), IPv4Address('10.0.19.200'), IPv4Address('10.0.110.237'), IPv4Address('10.0.19.194'), IPv4Address('10.0.110.235'), IPv4Address('10.0.19.195')]\n",
      "Meander Escalated Hosts: ['Enterprise0', 'Enterprise1', 'Enterprise2', 'User0', 'User1', 'User2', 'User4']\n",
      "Meander Host IP Address Mapping: {'User1': IPv4Address('10.0.110.232'), 'User4': IPv4Address('10.0.110.236'), 'Enterprise0': IPv4Address('10.0.19.199'), 'Enterprise1': IPv4Address('10.0.19.200'), 'User2': IPv4Address('10.0.110.237'), 'Enterprise2': IPv4Address('10.0.19.194')}\n",
      "Meander Last Host: None\n",
      "Meander Last IP Address: 10.0.19.195\n",
      "----------------------------------------------------------------------------\n",
      "{'10.0.19.195': {'Interface': [{'IP Address': IPv4Address('10.0.19.195')}],\n",
      "                 'Processes': [{'Connections': [{'Status': <ProcessState.OPEN: 2>,\n",
      "                                                 'local_address': IPv4Address('10.0.19.195'),\n",
      "                                                 'local_port': 22}],\n",
      "                                'Process Type': <ProcessType.SSH: 2>}]},\n",
      " 'success': <TrinaryEnum.FALSE: 3>}\n"
     ]
    }
   ],
   "source": [
    "results = step_red(red_obs)\n",
    "red_obs = results.observation"
   ]
  },
  {
   "cell_type": "code",
   "execution_count": 37,
   "metadata": {},
   "outputs": [
    {
     "name": "stdout",
     "output_type": "stream",
     "text": [
      "Meander Action: PrivilegeEscalate Enterprise0\n",
      "Meander Scanned Subnets: [IPv4Network('10.0.110.224/28'), IPv4Network('10.0.19.192/28')]\n",
      "Meander Scanned IP Addresses: [IPv4Address('10.0.110.232'), IPv4Address('10.0.110.236'), IPv4Address('10.0.110.237'), IPv4Address('10.0.110.227'), IPv4Address('10.0.110.235'), IPv4Address('10.0.19.200'), IPv4Address('10.0.19.199'), IPv4Address('10.0.19.194'), IPv4Address('10.0.19.195'), IPv4Address('10.0.156.81')]\n",
      "Meander Exploited IP Addresses: [IPv4Address('10.0.110.232'), IPv4Address('10.0.110.236'), IPv4Address('10.0.19.199'), IPv4Address('10.0.19.200'), IPv4Address('10.0.110.237'), IPv4Address('10.0.19.194'), IPv4Address('10.0.110.235'), IPv4Address('10.0.19.195')]\n",
      "Meander Escalated Hosts: ['Enterprise0']\n",
      "Meander Host IP Address Mapping: {'User1': IPv4Address('10.0.110.232'), 'User4': IPv4Address('10.0.110.236'), 'Enterprise0': IPv4Address('10.0.19.199'), 'Enterprise1': IPv4Address('10.0.19.200'), 'User2': IPv4Address('10.0.110.237'), 'Enterprise2': IPv4Address('10.0.19.194')}\n",
      "Meander Last Host: Enterprise0\n",
      "Meander Last IP Address: None\n",
      "----------------------------------------------------------------------------\n",
      "{'Enterprise0': {'Interface': [{'IP Address': IPv4Address('10.0.19.199'),\n",
      "                                'Interface Name': 'eth0',\n",
      "                                'Subnet': IPv4Network('10.0.19.192/28')}],\n",
      "                 'Processes': [{'PID': 18628, 'Username': 'root'}],\n",
      "                 'Sessions': [{'Agent': 'Red',\n",
      "                               'ID': 3,\n",
      "                               'PID': 18628,\n",
      "                               'Timeout': 0,\n",
      "                               'Type': <SessionType.SSH: 2>,\n",
      "                               'Username': 'root'}]},\n",
      " 'success': <TrinaryEnum.TRUE: 1>}\n"
     ]
    }
   ],
   "source": [
    "results = step_red(red_obs)\n",
    "red_obs = results.observation"
   ]
  },
  {
   "cell_type": "code",
   "execution_count": 38,
   "metadata": {},
   "outputs": [
    {
     "name": "stdout",
     "output_type": "stream",
     "text": [
      "Meander Action: PrivilegeEscalate Enterprise1\n",
      "Meander Scanned Subnets: [IPv4Network('10.0.110.224/28'), IPv4Network('10.0.19.192/28')]\n",
      "Meander Scanned IP Addresses: [IPv4Address('10.0.110.232'), IPv4Address('10.0.110.236'), IPv4Address('10.0.110.237'), IPv4Address('10.0.110.227'), IPv4Address('10.0.110.235'), IPv4Address('10.0.19.200'), IPv4Address('10.0.19.199'), IPv4Address('10.0.19.194'), IPv4Address('10.0.19.195'), IPv4Address('10.0.156.81')]\n",
      "Meander Exploited IP Addresses: [IPv4Address('10.0.110.232'), IPv4Address('10.0.110.236'), IPv4Address('10.0.19.199'), IPv4Address('10.0.19.200'), IPv4Address('10.0.110.237'), IPv4Address('10.0.19.194'), IPv4Address('10.0.110.235'), IPv4Address('10.0.19.195')]\n",
      "Meander Escalated Hosts: ['Enterprise0', 'Enterprise1']\n",
      "Meander Host IP Address Mapping: {'User1': IPv4Address('10.0.110.232'), 'User4': IPv4Address('10.0.110.236'), 'Enterprise0': IPv4Address('10.0.19.199'), 'Enterprise1': IPv4Address('10.0.19.200'), 'User2': IPv4Address('10.0.110.237'), 'Enterprise2': IPv4Address('10.0.19.194')}\n",
      "Meander Last Host: Enterprise1\n",
      "Meander Last IP Address: None\n",
      "----------------------------------------------------------------------------\n",
      "{'Enterprise1': {'Interface': [{'IP Address': IPv4Address('10.0.19.200'),\n",
      "                                'Interface Name': 'eth0',\n",
      "                                'Subnet': IPv4Network('10.0.19.192/28')}],\n",
      "                 'Processes': [{'PID': 28741, 'Username': 'SYSTEM'}],\n",
      "                 'Sessions': [{'Agent': 'Red',\n",
      "                               'ID': 4,\n",
      "                               'PID': 28741,\n",
      "                               'Timeout': 0,\n",
      "                               'Type': <SessionType.RED_REVERSE_SHELL: 11>,\n",
      "                               'Username': 'SYSTEM'}]},\n",
      " 'success': <TrinaryEnum.TRUE: 1>}\n"
     ]
    }
   ],
   "source": [
    "results = step_red(red_obs)\n",
    "red_obs = results.observation"
   ]
  },
  {
   "cell_type": "code",
   "execution_count": 39,
   "metadata": {},
   "outputs": [
    {
     "name": "stdout",
     "output_type": "stream",
     "text": [
      "Meander Action: PrivilegeEscalate Enterprise2\n",
      "Meander Scanned Subnets: [IPv4Network('10.0.110.224/28'), IPv4Network('10.0.19.192/28')]\n",
      "Meander Scanned IP Addresses: [IPv4Address('10.0.110.232'), IPv4Address('10.0.110.236'), IPv4Address('10.0.110.237'), IPv4Address('10.0.110.227'), IPv4Address('10.0.110.235'), IPv4Address('10.0.19.200'), IPv4Address('10.0.19.199'), IPv4Address('10.0.19.194'), IPv4Address('10.0.19.195'), IPv4Address('10.0.156.81')]\n",
      "Meander Exploited IP Addresses: [IPv4Address('10.0.110.232'), IPv4Address('10.0.110.236'), IPv4Address('10.0.19.199'), IPv4Address('10.0.19.200'), IPv4Address('10.0.110.237'), IPv4Address('10.0.19.194'), IPv4Address('10.0.110.235'), IPv4Address('10.0.19.195')]\n",
      "Meander Escalated Hosts: ['Enterprise0', 'Enterprise1', 'Enterprise2']\n",
      "Meander Host IP Address Mapping: {'User1': IPv4Address('10.0.110.232'), 'User4': IPv4Address('10.0.110.236'), 'Enterprise0': IPv4Address('10.0.19.199'), 'Enterprise1': IPv4Address('10.0.19.200'), 'User2': IPv4Address('10.0.110.237'), 'Enterprise2': IPv4Address('10.0.19.194')}\n",
      "Meander Last Host: Enterprise2\n",
      "Meander Last IP Address: None\n",
      "----------------------------------------------------------------------------\n",
      "{'Enterprise2': {'Interface': [{'IP Address': IPv4Address('10.0.19.194'),\n",
      "                                'Interface Name': 'eth0',\n",
      "                                'Subnet': IPv4Network('10.0.19.192/28')}],\n",
      "                 'Processes': [{'PID': 19606, 'Username': 'SYSTEM'}],\n",
      "                 'Sessions': [{'Agent': 'Red',\n",
      "                               'ID': 6,\n",
      "                               'PID': 19606,\n",
      "                               'Timeout': 0,\n",
      "                               'Type': <SessionType.RED_REVERSE_SHELL: 11>,\n",
      "                               'Username': 'SYSTEM'}]},\n",
      " 'Op_Server0': {'Interface': [{'IP Address': IPv4Address('10.0.156.81')}]},\n",
      " 'success': <TrinaryEnum.TRUE: 1>}\n"
     ]
    }
   ],
   "source": [
    "results = step_red(red_obs)\n",
    "red_obs = results.observation"
   ]
  },
  {
   "cell_type": "code",
   "execution_count": 40,
   "metadata": {},
   "outputs": [
    {
     "name": "stdout",
     "output_type": "stream",
     "text": [
      "Meander Action: PrivilegeEscalate User0\n",
      "Meander Scanned Subnets: [IPv4Network('10.0.110.224/28'), IPv4Network('10.0.19.192/28')]\n",
      "Meander Scanned IP Addresses: [IPv4Address('10.0.110.232'), IPv4Address('10.0.110.236'), IPv4Address('10.0.110.237'), IPv4Address('10.0.110.227'), IPv4Address('10.0.110.235'), IPv4Address('10.0.19.200'), IPv4Address('10.0.19.199'), IPv4Address('10.0.19.194'), IPv4Address('10.0.19.195'), IPv4Address('10.0.156.81')]\n",
      "Meander Exploited IP Addresses: [IPv4Address('10.0.110.232'), IPv4Address('10.0.110.236'), IPv4Address('10.0.19.199'), IPv4Address('10.0.19.200'), IPv4Address('10.0.110.237'), IPv4Address('10.0.19.194'), IPv4Address('10.0.110.235'), IPv4Address('10.0.19.195')]\n",
      "Meander Escalated Hosts: ['Enterprise0', 'Enterprise1', 'Enterprise2', 'User0']\n",
      "Meander Host IP Address Mapping: {'User1': IPv4Address('10.0.110.232'), 'User4': IPv4Address('10.0.110.236'), 'Enterprise0': IPv4Address('10.0.19.199'), 'Enterprise1': IPv4Address('10.0.19.200'), 'User2': IPv4Address('10.0.110.237'), 'Enterprise2': IPv4Address('10.0.19.194')}\n",
      "Meander Last Host: User0\n",
      "Meander Last IP Address: None\n",
      "----------------------------------------------------------------------------\n",
      "{'User0': {'Interface': [{'IP Address': IPv4Address('10.0.110.235'),\n",
      "                          'Interface Name': 'eth0',\n",
      "                          'Subnet': IPv4Network('10.0.110.224/28')}],\n",
      "           'Processes': [{'PID': 13796, 'Username': 'SYSTEM'}],\n",
      "           'Sessions': [{'Agent': 'Red',\n",
      "                         'ID': 0,\n",
      "                         'PID': 13796,\n",
      "                         'Timeout': 0,\n",
      "                         'Type': <SessionType.RED_ABSTRACT_SESSION: 10>,\n",
      "                         'Username': 'SYSTEM'}]},\n",
      " 'success': <TrinaryEnum.TRUE: 1>}\n"
     ]
    }
   ],
   "source": [
    "results = step_red(red_obs)\n",
    "red_obs = results.observation"
   ]
  },
  {
   "cell_type": "code",
   "execution_count": 41,
   "metadata": {},
   "outputs": [
    {
     "name": "stdout",
     "output_type": "stream",
     "text": [
      "Meander Action: PrivilegeEscalate User1\n",
      "Meander Scanned Subnets: [IPv4Network('10.0.110.224/28'), IPv4Network('10.0.19.192/28')]\n",
      "Meander Scanned IP Addresses: [IPv4Address('10.0.110.232'), IPv4Address('10.0.110.236'), IPv4Address('10.0.110.237'), IPv4Address('10.0.110.227'), IPv4Address('10.0.110.235'), IPv4Address('10.0.19.200'), IPv4Address('10.0.19.199'), IPv4Address('10.0.19.194'), IPv4Address('10.0.19.195'), IPv4Address('10.0.156.81')]\n",
      "Meander Exploited IP Addresses: [IPv4Address('10.0.110.232'), IPv4Address('10.0.110.236'), IPv4Address('10.0.19.199'), IPv4Address('10.0.19.200'), IPv4Address('10.0.110.237'), IPv4Address('10.0.19.194'), IPv4Address('10.0.110.235'), IPv4Address('10.0.19.195')]\n",
      "Meander Escalated Hosts: ['Enterprise0', 'Enterprise1', 'Enterprise2', 'User0', 'User1']\n",
      "Meander Host IP Address Mapping: {'User1': IPv4Address('10.0.110.232'), 'User4': IPv4Address('10.0.110.236'), 'Enterprise0': IPv4Address('10.0.19.199'), 'Enterprise1': IPv4Address('10.0.19.200'), 'User2': IPv4Address('10.0.110.237'), 'Enterprise2': IPv4Address('10.0.19.194')}\n",
      "Meander Last Host: User1\n",
      "Meander Last IP Address: None\n",
      "----------------------------------------------------------------------------\n",
      "{'Enterprise1': {'Interface': [{'IP Address': IPv4Address('10.0.19.200')}]},\n",
      " 'User1': {'Interface': [{'IP Address': IPv4Address('10.0.110.232'),\n",
      "                          'Interface Name': 'eth0',\n",
      "                          'Subnet': IPv4Network('10.0.110.224/28')}],\n",
      "           'Processes': [{'PID': 8725, 'Username': 'SYSTEM'}],\n",
      "           'Sessions': [{'Agent': 'Red',\n",
      "                         'ID': 1,\n",
      "                         'PID': 8725,\n",
      "                         'Timeout': 0,\n",
      "                         'Type': <SessionType.RED_REVERSE_SHELL: 11>,\n",
      "                         'Username': 'SYSTEM'}]},\n",
      " 'success': <TrinaryEnum.TRUE: 1>}\n"
     ]
    }
   ],
   "source": [
    "results = step_red(red_obs)\n",
    "red_obs = results.observation"
   ]
  },
  {
   "cell_type": "code",
   "execution_count": 42,
   "metadata": {},
   "outputs": [
    {
     "name": "stdout",
     "output_type": "stream",
     "text": [
      "Meander Action: PrivilegeEscalate User2\n",
      "Meander Scanned Subnets: [IPv4Network('10.0.110.224/28'), IPv4Network('10.0.19.192/28')]\n",
      "Meander Scanned IP Addresses: [IPv4Address('10.0.110.232'), IPv4Address('10.0.110.236'), IPv4Address('10.0.110.237'), IPv4Address('10.0.110.227'), IPv4Address('10.0.110.235'), IPv4Address('10.0.19.200'), IPv4Address('10.0.19.199'), IPv4Address('10.0.19.194'), IPv4Address('10.0.19.195'), IPv4Address('10.0.156.81')]\n",
      "Meander Exploited IP Addresses: [IPv4Address('10.0.110.232'), IPv4Address('10.0.110.236'), IPv4Address('10.0.19.199'), IPv4Address('10.0.19.200'), IPv4Address('10.0.110.237'), IPv4Address('10.0.19.194'), IPv4Address('10.0.110.235'), IPv4Address('10.0.19.195')]\n",
      "Meander Escalated Hosts: ['Enterprise0', 'Enterprise1', 'Enterprise2', 'User0', 'User1', 'User2']\n",
      "Meander Host IP Address Mapping: {'User1': IPv4Address('10.0.110.232'), 'User4': IPv4Address('10.0.110.236'), 'Enterprise0': IPv4Address('10.0.19.199'), 'Enterprise1': IPv4Address('10.0.19.200'), 'User2': IPv4Address('10.0.110.237'), 'Enterprise2': IPv4Address('10.0.19.194')}\n",
      "Meander Last Host: User2\n",
      "Meander Last IP Address: None\n",
      "----------------------------------------------------------------------------\n",
      "{'Enterprise1': {'Interface': [{'IP Address': IPv4Address('10.0.19.200')}]},\n",
      " 'User2': {'Interface': [{'IP Address': IPv4Address('10.0.110.237'),\n",
      "                          'Interface Name': 'eth0',\n",
      "                          'Subnet': IPv4Network('10.0.110.224/28')}],\n",
      "           'Processes': [{'PID': 16494, 'Username': 'SYSTEM'}],\n",
      "           'Sessions': [{'Agent': 'Red',\n",
      "                         'ID': 5,\n",
      "                         'PID': 16494,\n",
      "                         'Timeout': 0,\n",
      "                         'Type': <SessionType.RED_REVERSE_SHELL: 11>,\n",
      "                         'Username': 'SYSTEM'}]},\n",
      " 'success': <TrinaryEnum.TRUE: 1>}\n"
     ]
    }
   ],
   "source": [
    "results = step_red(red_obs)\n",
    "red_obs = results.observation"
   ]
  },
  {
   "cell_type": "code",
   "execution_count": 43,
   "metadata": {},
   "outputs": [
    {
     "name": "stdout",
     "output_type": "stream",
     "text": [
      "Meander Action: PrivilegeEscalate User4\n",
      "Meander Scanned Subnets: [IPv4Network('10.0.110.224/28'), IPv4Network('10.0.19.192/28')]\n",
      "Meander Scanned IP Addresses: [IPv4Address('10.0.110.232'), IPv4Address('10.0.110.236'), IPv4Address('10.0.110.237'), IPv4Address('10.0.110.227'), IPv4Address('10.0.110.235'), IPv4Address('10.0.19.200'), IPv4Address('10.0.19.199'), IPv4Address('10.0.19.194'), IPv4Address('10.0.19.195'), IPv4Address('10.0.156.81')]\n",
      "Meander Exploited IP Addresses: [IPv4Address('10.0.110.232'), IPv4Address('10.0.110.236'), IPv4Address('10.0.19.199'), IPv4Address('10.0.19.200'), IPv4Address('10.0.110.237'), IPv4Address('10.0.19.194'), IPv4Address('10.0.110.235'), IPv4Address('10.0.19.195')]\n",
      "Meander Escalated Hosts: ['Enterprise0', 'Enterprise1', 'Enterprise2', 'User0', 'User1', 'User2', 'User4']\n",
      "Meander Host IP Address Mapping: {'User1': IPv4Address('10.0.110.232'), 'User4': IPv4Address('10.0.110.236'), 'Enterprise0': IPv4Address('10.0.19.199'), 'Enterprise1': IPv4Address('10.0.19.200'), 'User2': IPv4Address('10.0.110.237'), 'Enterprise2': IPv4Address('10.0.19.194')}\n",
      "Meander Last Host: User4\n",
      "Meander Last IP Address: None\n",
      "----------------------------------------------------------------------------\n",
      "{'Enterprise0': {'Interface': [{'IP Address': IPv4Address('10.0.19.199')}]},\n",
      " 'User4': {'Interface': [{'IP Address': IPv4Address('10.0.110.236'),\n",
      "                          'Interface Name': 'eth0',\n",
      "                          'Subnet': IPv4Network('10.0.110.224/28')}],\n",
      "           'Processes': [{'PID': 22709, 'Username': 'root'}],\n",
      "           'Sessions': [{'Agent': 'Red',\n",
      "                         'ID': 2,\n",
      "                         'PID': 22709,\n",
      "                         'Timeout': 0,\n",
      "                         'Type': <SessionType.RED_REVERSE_SHELL: 11>,\n",
      "                         'Username': 'root'}]},\n",
      " 'success': <TrinaryEnum.TRUE: 1>}\n"
     ]
    }
   ],
   "source": [
    "results = step_red(red_obs)\n",
    "red_obs = results.observation"
   ]
  },
  {
   "cell_type": "code",
   "execution_count": 44,
   "metadata": {},
   "outputs": [
    {
     "name": "stdout",
     "output_type": "stream",
     "text": [
      "Meander Action: ExploitRemoteService 10.0.110.227\n",
      "Meander Scanned Subnets: [IPv4Network('10.0.110.224/28'), IPv4Network('10.0.19.192/28')]\n",
      "Meander Scanned IP Addresses: [IPv4Address('10.0.110.232'), IPv4Address('10.0.110.236'), IPv4Address('10.0.110.237'), IPv4Address('10.0.110.227'), IPv4Address('10.0.110.235'), IPv4Address('10.0.19.200'), IPv4Address('10.0.19.199'), IPv4Address('10.0.19.194'), IPv4Address('10.0.19.195'), IPv4Address('10.0.156.81')]\n",
      "Meander Exploited IP Addresses: [IPv4Address('10.0.110.232'), IPv4Address('10.0.110.236'), IPv4Address('10.0.19.199'), IPv4Address('10.0.19.200'), IPv4Address('10.0.110.237'), IPv4Address('10.0.19.194'), IPv4Address('10.0.110.235'), IPv4Address('10.0.19.195'), IPv4Address('10.0.110.227')]\n",
      "Meander Escalated Hosts: ['Enterprise0', 'Enterprise1', 'Enterprise2', 'User0', 'User1', 'User2', 'User4']\n",
      "Meander Host IP Address Mapping: {'User1': IPv4Address('10.0.110.232'), 'User4': IPv4Address('10.0.110.236'), 'Enterprise0': IPv4Address('10.0.19.199'), 'Enterprise1': IPv4Address('10.0.19.200'), 'User2': IPv4Address('10.0.110.237'), 'Enterprise2': IPv4Address('10.0.19.194')}\n",
      "Meander Last Host: None\n",
      "Meander Last IP Address: 10.0.110.227\n",
      "----------------------------------------------------------------------------\n",
      "{'10.0.110.227': {'Interface': [{'IP Address': IPv4Address('10.0.110.227')}],\n",
      "                  'Processes': [{'Connections': [{'Status': <ProcessState.OPEN: 2>,\n",
      "                                                  'local_address': IPv4Address('10.0.110.227'),\n",
      "                                                  'local_port': 22}],\n",
      "                                 'Process Type': <ProcessType.SSH: 2>},\n",
      "                                {'Connections': [{'local_address': IPv4Address('10.0.110.227'),\n",
      "                                                  'local_port': 22,\n",
      "                                                  'remote_address': IPv4Address('10.0.110.235'),\n",
      "                                                  'remote_port': 59240}],\n",
      "                                 'Process Type': <ProcessType.SSH: 2>}],\n",
      "                  'Sessions': [{'Agent': 'Red',\n",
      "                                'ID': 7,\n",
      "                                'Type': <SessionType.SSH: 2>,\n",
      "                                'Username': 'pi'}],\n",
      "                  'System info': {'Hostname': 'User3',\n",
      "                                  'OSType': <OperatingSystemType.LINUX: 3>},\n",
      "                  'User Info': [{'Password': 'raspberry',\n",
      "                                 'UID': 1001,\n",
      "                                 'Username': 'pi'}]},\n",
      " '10.0.110.235': {'Interface': [{'IP Address': IPv4Address('10.0.110.235')}],\n",
      "                  'Processes': [{'Connections': [{'local_address': IPv4Address('10.0.110.235'),\n",
      "                                                  'local_port': 59240,\n",
      "                                                  'remote_address': IPv4Address('10.0.110.227'),\n",
      "                                                  'remote_port': 22}]}]},\n",
      " 'success': <TrinaryEnum.TRUE: 1>}\n"
     ]
    }
   ],
   "source": [
    "results = step_red(red_obs)\n",
    "red_obs = results.observation"
   ]
  },
  {
   "cell_type": "code",
   "execution_count": 45,
   "metadata": {},
   "outputs": [
    {
     "name": "stdout",
     "output_type": "stream",
     "text": [
      "Meander Action: PrivilegeEscalate User3\n",
      "Meander Scanned Subnets: [IPv4Network('10.0.110.224/28'), IPv4Network('10.0.19.192/28')]\n",
      "Meander Scanned IP Addresses: [IPv4Address('10.0.110.232'), IPv4Address('10.0.110.236'), IPv4Address('10.0.110.237'), IPv4Address('10.0.110.227'), IPv4Address('10.0.110.235'), IPv4Address('10.0.19.200'), IPv4Address('10.0.19.199'), IPv4Address('10.0.19.194'), IPv4Address('10.0.19.195'), IPv4Address('10.0.156.81')]\n",
      "Meander Exploited IP Addresses: [IPv4Address('10.0.110.232'), IPv4Address('10.0.110.236'), IPv4Address('10.0.19.199'), IPv4Address('10.0.19.200'), IPv4Address('10.0.110.237'), IPv4Address('10.0.19.194'), IPv4Address('10.0.110.235'), IPv4Address('10.0.19.195'), IPv4Address('10.0.110.227')]\n",
      "Meander Escalated Hosts: ['Enterprise0', 'Enterprise1', 'Enterprise2', 'User0', 'User1', 'User2', 'User4', 'User3']\n",
      "Meander Host IP Address Mapping: {'User1': IPv4Address('10.0.110.232'), 'User4': IPv4Address('10.0.110.236'), 'Enterprise0': IPv4Address('10.0.19.199'), 'Enterprise1': IPv4Address('10.0.19.200'), 'User2': IPv4Address('10.0.110.237'), 'Enterprise2': IPv4Address('10.0.19.194'), 'User3': IPv4Address('10.0.110.227')}\n",
      "Meander Last Host: User3\n",
      "Meander Last IP Address: None\n",
      "----------------------------------------------------------------------------\n",
      "{'Enterprise0': {'Interface': [{'IP Address': IPv4Address('10.0.19.199')}]},\n",
      " 'User3': {'Interface': [{'IP Address': IPv4Address('10.0.110.227'),\n",
      "                          'Interface Name': 'eth0',\n",
      "                          'Subnet': IPv4Network('10.0.110.224/28')}],\n",
      "           'Sessions': [{'Agent': 'Red',\n",
      "                         'ID': 7,\n",
      "                         'Type': <SessionType.SSH: 2>,\n",
      "                         'Username': 'root'}]},\n",
      " 'success': <TrinaryEnum.TRUE: 1>}\n"
     ]
    }
   ],
   "source": [
    "results = step_red(red_obs)\n",
    "red_obs = results.observation"
   ]
  },
  {
   "cell_type": "code",
   "execution_count": 46,
   "metadata": {},
   "outputs": [
    {
     "name": "stdout",
     "output_type": "stream",
     "text": [
      "Meander Action: ExploitRemoteService 10.0.156.81\n",
      "Meander Scanned Subnets: [IPv4Network('10.0.110.224/28'), IPv4Network('10.0.19.192/28')]\n",
      "Meander Scanned IP Addresses: [IPv4Address('10.0.110.232'), IPv4Address('10.0.110.236'), IPv4Address('10.0.110.237'), IPv4Address('10.0.110.227'), IPv4Address('10.0.110.235'), IPv4Address('10.0.19.200'), IPv4Address('10.0.19.199'), IPv4Address('10.0.19.194'), IPv4Address('10.0.19.195'), IPv4Address('10.0.156.81')]\n",
      "Meander Exploited IP Addresses: [IPv4Address('10.0.110.232'), IPv4Address('10.0.110.236'), IPv4Address('10.0.19.199'), IPv4Address('10.0.19.200'), IPv4Address('10.0.110.237'), IPv4Address('10.0.19.194'), IPv4Address('10.0.110.235'), IPv4Address('10.0.19.195'), IPv4Address('10.0.110.227'), IPv4Address('10.0.156.81')]\n",
      "Meander Escalated Hosts: ['Enterprise0', 'Enterprise1', 'Enterprise2', 'User0', 'User1', 'User2', 'User4', 'User3']\n",
      "Meander Host IP Address Mapping: {'User1': IPv4Address('10.0.110.232'), 'User4': IPv4Address('10.0.110.236'), 'Enterprise0': IPv4Address('10.0.19.199'), 'Enterprise1': IPv4Address('10.0.19.200'), 'User2': IPv4Address('10.0.110.237'), 'Enterprise2': IPv4Address('10.0.19.194'), 'User3': IPv4Address('10.0.110.227')}\n",
      "Meander Last Host: None\n",
      "Meander Last IP Address: 10.0.156.81\n",
      "----------------------------------------------------------------------------\n",
      "{'10.0.110.235': {'Interface': [{'IP Address': IPv4Address('10.0.110.235')}],\n",
      "                  'Processes': [{'Connections': [{'local_address': IPv4Address('10.0.110.235'),\n",
      "                                                  'local_port': 52884,\n",
      "                                                  'remote_address': IPv4Address('10.0.156.81'),\n",
      "                                                  'remote_port': 22}]}]},\n",
      " '10.0.156.81': {'Interface': [{'IP Address': IPv4Address('10.0.156.81')}],\n",
      "                 'Processes': [{'Connections': [{'Status': <ProcessState.OPEN: 2>,\n",
      "                                                 'local_address': IPv4Address('10.0.156.81'),\n",
      "                                                 'local_port': 22}],\n",
      "                                'Process Type': <ProcessType.SSH: 2>},\n",
      "                               {'Connections': [{'local_address': IPv4Address('10.0.156.81'),\n",
      "                                                 'local_port': 22,\n",
      "                                                 'remote_address': IPv4Address('10.0.110.235'),\n",
      "                                                 'remote_port': 52884}],\n",
      "                                'Process Type': <ProcessType.SSH: 2>}],\n",
      "                 'Sessions': [{'Agent': 'Red',\n",
      "                               'ID': 8,\n",
      "                               'Type': <SessionType.SSH: 2>,\n",
      "                               'Username': 'pi'}],\n",
      "                 'System info': {'Hostname': 'Op_Server0',\n",
      "                                 'OSType': <OperatingSystemType.LINUX: 3>},\n",
      "                 'User Info': [{'Password': 'raspberry',\n",
      "                                'UID': 1001,\n",
      "                                'Username': 'pi'}]},\n",
      " 'success': <TrinaryEnum.TRUE: 1>}\n"
     ]
    }
   ],
   "source": [
    "results = step_red(red_obs)\n",
    "red_obs = results.observation"
   ]
  },
  {
   "cell_type": "code",
   "execution_count": 47,
   "metadata": {},
   "outputs": [
    {
     "name": "stdout",
     "output_type": "stream",
     "text": [
      "Meander Action: PrivilegeEscalate Op_Server0\n",
      "Meander Scanned Subnets: [IPv4Network('10.0.110.224/28'), IPv4Network('10.0.19.192/28')]\n",
      "Meander Scanned IP Addresses: [IPv4Address('10.0.110.232'), IPv4Address('10.0.110.236'), IPv4Address('10.0.110.237'), IPv4Address('10.0.110.227'), IPv4Address('10.0.110.235'), IPv4Address('10.0.19.200'), IPv4Address('10.0.19.199'), IPv4Address('10.0.19.194'), IPv4Address('10.0.19.195'), IPv4Address('10.0.156.81')]\n",
      "Meander Exploited IP Addresses: [IPv4Address('10.0.110.232'), IPv4Address('10.0.110.236'), IPv4Address('10.0.19.199'), IPv4Address('10.0.19.200'), IPv4Address('10.0.110.237'), IPv4Address('10.0.19.194'), IPv4Address('10.0.110.235'), IPv4Address('10.0.19.195'), IPv4Address('10.0.110.227'), IPv4Address('10.0.156.81')]\n",
      "Meander Escalated Hosts: ['Enterprise0', 'Enterprise1', 'Enterprise2', 'User0', 'User1', 'User2', 'User4', 'User3', 'Op_Server0']\n",
      "Meander Host IP Address Mapping: {'User1': IPv4Address('10.0.110.232'), 'User4': IPv4Address('10.0.110.236'), 'Enterprise0': IPv4Address('10.0.19.199'), 'Enterprise1': IPv4Address('10.0.19.200'), 'User2': IPv4Address('10.0.110.237'), 'Enterprise2': IPv4Address('10.0.19.194'), 'User3': IPv4Address('10.0.110.227'), 'Op_Server0': IPv4Address('10.0.156.81')}\n",
      "Meander Last Host: Op_Server0\n",
      "Meander Last IP Address: None\n",
      "----------------------------------------------------------------------------\n",
      "{'Op_Server0': {'Interface': [{'IP Address': IPv4Address('10.0.156.81'),\n",
      "                               'Interface Name': 'eth0',\n",
      "                               'Subnet': IPv4Network('10.0.156.80/28')}],\n",
      "                'Processes': [{'PID': 1043, 'Service Name': 'OTService'}],\n",
      "                'Sessions': [{'Agent': 'Red',\n",
      "                              'ID': 8,\n",
      "                              'Type': <SessionType.SSH: 2>,\n",
      "                              'Username': 'root'}]},\n",
      " 'success': <TrinaryEnum.TRUE: 1>}\n"
     ]
    }
   ],
   "source": [
    "results = step_red(red_obs)\n",
    "red_obs = results.observation"
   ]
  },
  {
   "cell_type": "code",
   "execution_count": 48,
   "metadata": {},
   "outputs": [
    {
     "name": "stdout",
     "output_type": "stream",
     "text": [
      "Meander Action: DiscoverRemoteSystems 10.0.156.80/28\n",
      "Meander Scanned Subnets: [IPv4Network('10.0.110.224/28'), IPv4Network('10.0.19.192/28'), IPv4Network('10.0.156.80/28')]\n",
      "Meander Scanned IP Addresses: [IPv4Address('10.0.110.232'), IPv4Address('10.0.110.236'), IPv4Address('10.0.110.237'), IPv4Address('10.0.110.227'), IPv4Address('10.0.110.235'), IPv4Address('10.0.19.200'), IPv4Address('10.0.19.199'), IPv4Address('10.0.19.194'), IPv4Address('10.0.19.195'), IPv4Address('10.0.156.81')]\n",
      "Meander Exploited IP Addresses: [IPv4Address('10.0.110.232'), IPv4Address('10.0.110.236'), IPv4Address('10.0.19.199'), IPv4Address('10.0.19.200'), IPv4Address('10.0.110.237'), IPv4Address('10.0.19.194'), IPv4Address('10.0.110.235'), IPv4Address('10.0.19.195'), IPv4Address('10.0.110.227'), IPv4Address('10.0.156.81')]\n",
      "Meander Escalated Hosts: ['Enterprise0', 'Enterprise1', 'Enterprise2', 'User0', 'User1', 'User2', 'User4', 'User3', 'Op_Server0']\n",
      "Meander Host IP Address Mapping: {'User1': IPv4Address('10.0.110.232'), 'User4': IPv4Address('10.0.110.236'), 'Enterprise0': IPv4Address('10.0.19.199'), 'Enterprise1': IPv4Address('10.0.19.200'), 'User2': IPv4Address('10.0.110.237'), 'Enterprise2': IPv4Address('10.0.19.194'), 'User3': IPv4Address('10.0.110.227'), 'Op_Server0': IPv4Address('10.0.156.81')}\n",
      "Meander Last Host: None\n",
      "Meander Last IP Address: None\n",
      "----------------------------------------------------------------------------\n",
      "{'10.0.156.81': {'Interface': [{'IP Address': IPv4Address('10.0.156.81'),\n",
      "                                'Subnet': IPv4Network('10.0.156.80/28')}]},\n",
      " '10.0.156.86': {'Interface': [{'IP Address': IPv4Address('10.0.156.86'),\n",
      "                                'Subnet': IPv4Network('10.0.156.80/28')}]},\n",
      " '10.0.156.92': {'Interface': [{'IP Address': IPv4Address('10.0.156.92'),\n",
      "                                'Subnet': IPv4Network('10.0.156.80/28')}]},\n",
      " '10.0.156.94': {'Interface': [{'IP Address': IPv4Address('10.0.156.94'),\n",
      "                                'Subnet': IPv4Network('10.0.156.80/28')}]},\n",
      " 'success': <TrinaryEnum.TRUE: 1>}\n"
     ]
    }
   ],
   "source": [
    "results = step_red(red_obs)\n",
    "red_obs = results.observation"
   ]
  },
  {
   "cell_type": "code",
   "execution_count": 49,
   "metadata": {},
   "outputs": [
    {
     "name": "stdout",
     "output_type": "stream",
     "text": [
      "Meander Action: DiscoverNetworkServices 10.0.156.92\n",
      "Meander Scanned Subnets: [IPv4Network('10.0.110.224/28'), IPv4Network('10.0.19.192/28'), IPv4Network('10.0.156.80/28')]\n",
      "Meander Scanned IP Addresses: [IPv4Address('10.0.110.232'), IPv4Address('10.0.110.236'), IPv4Address('10.0.110.237'), IPv4Address('10.0.110.227'), IPv4Address('10.0.110.235'), IPv4Address('10.0.19.200'), IPv4Address('10.0.19.199'), IPv4Address('10.0.19.194'), IPv4Address('10.0.19.195'), IPv4Address('10.0.156.81'), IPv4Address('10.0.156.92')]\n",
      "Meander Exploited IP Addresses: [IPv4Address('10.0.110.232'), IPv4Address('10.0.110.236'), IPv4Address('10.0.19.199'), IPv4Address('10.0.19.200'), IPv4Address('10.0.110.237'), IPv4Address('10.0.19.194'), IPv4Address('10.0.110.235'), IPv4Address('10.0.19.195'), IPv4Address('10.0.110.227'), IPv4Address('10.0.156.81')]\n",
      "Meander Escalated Hosts: ['Enterprise0', 'Enterprise1', 'Enterprise2', 'User0', 'User1', 'User2', 'User4', 'User3', 'Op_Server0']\n",
      "Meander Host IP Address Mapping: {'User1': IPv4Address('10.0.110.232'), 'User4': IPv4Address('10.0.110.236'), 'Enterprise0': IPv4Address('10.0.19.199'), 'Enterprise1': IPv4Address('10.0.19.200'), 'User2': IPv4Address('10.0.110.237'), 'Enterprise2': IPv4Address('10.0.19.194'), 'User3': IPv4Address('10.0.110.227'), 'Op_Server0': IPv4Address('10.0.156.81')}\n",
      "Meander Last Host: None\n",
      "Meander Last IP Address: None\n",
      "----------------------------------------------------------------------------\n",
      "{'10.0.156.92': {'Interface': [{'IP Address': IPv4Address('10.0.156.92')}],\n",
      "                 'Processes': [{'Connections': [{'local_address': IPv4Address('10.0.156.92'),\n",
      "                                                 'local_port': 22}]}]},\n",
      " 'success': <TrinaryEnum.TRUE: 1>}\n"
     ]
    }
   ],
   "source": [
    "results = step_red(red_obs)\n",
    "red_obs = results.observation"
   ]
  },
  {
   "cell_type": "code",
   "execution_count": 50,
   "metadata": {},
   "outputs": [
    {
     "name": "stdout",
     "output_type": "stream",
     "text": [
      "Meander Action: DiscoverNetworkServices 10.0.156.86\n",
      "Meander Scanned Subnets: [IPv4Network('10.0.110.224/28'), IPv4Network('10.0.19.192/28'), IPv4Network('10.0.156.80/28')]\n",
      "Meander Scanned IP Addresses: [IPv4Address('10.0.110.232'), IPv4Address('10.0.110.236'), IPv4Address('10.0.110.237'), IPv4Address('10.0.110.227'), IPv4Address('10.0.110.235'), IPv4Address('10.0.19.200'), IPv4Address('10.0.19.199'), IPv4Address('10.0.19.194'), IPv4Address('10.0.19.195'), IPv4Address('10.0.156.81'), IPv4Address('10.0.156.92'), IPv4Address('10.0.156.86')]\n",
      "Meander Exploited IP Addresses: [IPv4Address('10.0.110.232'), IPv4Address('10.0.110.236'), IPv4Address('10.0.19.199'), IPv4Address('10.0.19.200'), IPv4Address('10.0.110.237'), IPv4Address('10.0.19.194'), IPv4Address('10.0.110.235'), IPv4Address('10.0.19.195'), IPv4Address('10.0.110.227'), IPv4Address('10.0.156.81')]\n",
      "Meander Escalated Hosts: ['Enterprise0', 'Enterprise1', 'Enterprise2', 'User0', 'User1', 'User2', 'User4', 'User3', 'Op_Server0']\n",
      "Meander Host IP Address Mapping: {'User1': IPv4Address('10.0.110.232'), 'User4': IPv4Address('10.0.110.236'), 'Enterprise0': IPv4Address('10.0.19.199'), 'Enterprise1': IPv4Address('10.0.19.200'), 'User2': IPv4Address('10.0.110.237'), 'Enterprise2': IPv4Address('10.0.19.194'), 'User3': IPv4Address('10.0.110.227'), 'Op_Server0': IPv4Address('10.0.156.81')}\n",
      "Meander Last Host: None\n",
      "Meander Last IP Address: None\n",
      "----------------------------------------------------------------------------\n",
      "{'10.0.156.86': {'Interface': [{'IP Address': IPv4Address('10.0.156.86')}],\n",
      "                 'Processes': [{'Connections': [{'local_address': IPv4Address('10.0.156.86'),\n",
      "                                                 'local_port': 22}]}]},\n",
      " 'success': <TrinaryEnum.TRUE: 1>}\n"
     ]
    }
   ],
   "source": [
    "results = step_red(red_obs)\n",
    "red_obs = results.observation"
   ]
  },
  {
   "cell_type": "code",
   "execution_count": 51,
   "metadata": {},
   "outputs": [
    {
     "name": "stdout",
     "output_type": "stream",
     "text": [
      "Meander Action: DiscoverNetworkServices 10.0.156.94\n",
      "Meander Scanned Subnets: [IPv4Network('10.0.110.224/28'), IPv4Network('10.0.19.192/28'), IPv4Network('10.0.156.80/28')]\n",
      "Meander Scanned IP Addresses: [IPv4Address('10.0.110.232'), IPv4Address('10.0.110.236'), IPv4Address('10.0.110.237'), IPv4Address('10.0.110.227'), IPv4Address('10.0.110.235'), IPv4Address('10.0.19.200'), IPv4Address('10.0.19.199'), IPv4Address('10.0.19.194'), IPv4Address('10.0.19.195'), IPv4Address('10.0.156.81'), IPv4Address('10.0.156.92'), IPv4Address('10.0.156.86'), IPv4Address('10.0.156.94')]\n",
      "Meander Exploited IP Addresses: [IPv4Address('10.0.110.232'), IPv4Address('10.0.110.236'), IPv4Address('10.0.19.199'), IPv4Address('10.0.19.200'), IPv4Address('10.0.110.237'), IPv4Address('10.0.19.194'), IPv4Address('10.0.110.235'), IPv4Address('10.0.19.195'), IPv4Address('10.0.110.227'), IPv4Address('10.0.156.81')]\n",
      "Meander Escalated Hosts: ['Enterprise0', 'Enterprise1', 'Enterprise2', 'User0', 'User1', 'User2', 'User4', 'User3', 'Op_Server0']\n",
      "Meander Host IP Address Mapping: {'User1': IPv4Address('10.0.110.232'), 'User4': IPv4Address('10.0.110.236'), 'Enterprise0': IPv4Address('10.0.19.199'), 'Enterprise1': IPv4Address('10.0.19.200'), 'User2': IPv4Address('10.0.110.237'), 'Enterprise2': IPv4Address('10.0.19.194'), 'User3': IPv4Address('10.0.110.227'), 'Op_Server0': IPv4Address('10.0.156.81')}\n",
      "Meander Last Host: None\n",
      "Meander Last IP Address: None\n",
      "----------------------------------------------------------------------------\n",
      "{'10.0.156.94': {'Interface': [{'IP Address': IPv4Address('10.0.156.94')}],\n",
      "                 'Processes': [{'Connections': [{'local_address': IPv4Address('10.0.156.94'),\n",
      "                                                 'local_port': 22}]}]},\n",
      " 'success': <TrinaryEnum.TRUE: 1>}\n"
     ]
    }
   ],
   "source": [
    "results = step_red(red_obs)\n",
    "red_obs = results.observation"
   ]
  },
  {
   "cell_type": "code",
   "execution_count": 52,
   "metadata": {},
   "outputs": [
    {
     "name": "stdout",
     "output_type": "stream",
     "text": [
      "Meander Action: ExploitRemoteService 10.0.156.94\n",
      "Meander Scanned Subnets: [IPv4Network('10.0.110.224/28'), IPv4Network('10.0.19.192/28'), IPv4Network('10.0.156.80/28')]\n",
      "Meander Scanned IP Addresses: [IPv4Address('10.0.110.232'), IPv4Address('10.0.110.236'), IPv4Address('10.0.110.237'), IPv4Address('10.0.110.227'), IPv4Address('10.0.110.235'), IPv4Address('10.0.19.200'), IPv4Address('10.0.19.199'), IPv4Address('10.0.19.194'), IPv4Address('10.0.19.195'), IPv4Address('10.0.156.81'), IPv4Address('10.0.156.92'), IPv4Address('10.0.156.86'), IPv4Address('10.0.156.94')]\n",
      "Meander Exploited IP Addresses: [IPv4Address('10.0.110.232'), IPv4Address('10.0.110.236'), IPv4Address('10.0.19.199'), IPv4Address('10.0.19.200'), IPv4Address('10.0.110.237'), IPv4Address('10.0.19.194'), IPv4Address('10.0.110.235'), IPv4Address('10.0.19.195'), IPv4Address('10.0.110.227'), IPv4Address('10.0.156.81'), IPv4Address('10.0.156.94')]\n",
      "Meander Escalated Hosts: ['Enterprise0', 'Enterprise1', 'Enterprise2', 'User0', 'User1', 'User2', 'User4', 'User3', 'Op_Server0']\n",
      "Meander Host IP Address Mapping: {'User1': IPv4Address('10.0.110.232'), 'User4': IPv4Address('10.0.110.236'), 'Enterprise0': IPv4Address('10.0.19.199'), 'Enterprise1': IPv4Address('10.0.19.200'), 'User2': IPv4Address('10.0.110.237'), 'Enterprise2': IPv4Address('10.0.19.194'), 'User3': IPv4Address('10.0.110.227'), 'Op_Server0': IPv4Address('10.0.156.81')}\n",
      "Meander Last Host: None\n",
      "Meander Last IP Address: 10.0.156.94\n",
      "----------------------------------------------------------------------------\n",
      "{'10.0.110.235': {'Interface': [{'IP Address': IPv4Address('10.0.110.235')}],\n",
      "                  'Processes': [{'Connections': [{'local_address': IPv4Address('10.0.110.235'),\n",
      "                                                  'local_port': 51376,\n",
      "                                                  'remote_address': IPv4Address('10.0.156.94'),\n",
      "                                                  'remote_port': 22}]}]},\n",
      " '10.0.156.94': {'Interface': [{'IP Address': IPv4Address('10.0.156.94')}],\n",
      "                 'Processes': [{'Connections': [{'Status': <ProcessState.OPEN: 2>,\n",
      "                                                 'local_address': IPv4Address('10.0.156.94'),\n",
      "                                                 'local_port': 22}],\n",
      "                                'Process Type': <ProcessType.SSH: 2>},\n",
      "                               {'Connections': [{'local_address': IPv4Address('10.0.156.94'),\n",
      "                                                 'local_port': 22,\n",
      "                                                 'remote_address': IPv4Address('10.0.110.235'),\n",
      "                                                 'remote_port': 51376}],\n",
      "                                'Process Type': <ProcessType.SSH: 2>}],\n",
      "                 'Sessions': [{'Agent': 'Red',\n",
      "                               'ID': 9,\n",
      "                               'Type': <SessionType.SSH: 2>,\n",
      "                               'Username': 'pi'}],\n",
      "                 'System info': {'Hostname': 'Op_Host0',\n",
      "                                 'OSType': <OperatingSystemType.LINUX: 3>},\n",
      "                 'User Info': [{'Password': 'raspberry',\n",
      "                                'UID': 1001,\n",
      "                                'Username': 'pi'}]},\n",
      " 'success': <TrinaryEnum.TRUE: 1>}\n"
     ]
    }
   ],
   "source": [
    "results = step_red(red_obs)\n",
    "red_obs = results.observation"
   ]
  },
  {
   "cell_type": "code",
   "execution_count": 53,
   "metadata": {},
   "outputs": [
    {
     "name": "stdout",
     "output_type": "stream",
     "text": [
      "Meander Action: PrivilegeEscalate Op_Host0\n",
      "Meander Scanned Subnets: [IPv4Network('10.0.110.224/28'), IPv4Network('10.0.19.192/28'), IPv4Network('10.0.156.80/28')]\n",
      "Meander Scanned IP Addresses: [IPv4Address('10.0.110.232'), IPv4Address('10.0.110.236'), IPv4Address('10.0.110.237'), IPv4Address('10.0.110.227'), IPv4Address('10.0.110.235'), IPv4Address('10.0.19.200'), IPv4Address('10.0.19.199'), IPv4Address('10.0.19.194'), IPv4Address('10.0.19.195'), IPv4Address('10.0.156.81'), IPv4Address('10.0.156.92'), IPv4Address('10.0.156.86'), IPv4Address('10.0.156.94')]\n",
      "Meander Exploited IP Addresses: [IPv4Address('10.0.110.232'), IPv4Address('10.0.110.236'), IPv4Address('10.0.19.199'), IPv4Address('10.0.19.200'), IPv4Address('10.0.110.237'), IPv4Address('10.0.19.194'), IPv4Address('10.0.110.235'), IPv4Address('10.0.19.195'), IPv4Address('10.0.110.227'), IPv4Address('10.0.156.81'), IPv4Address('10.0.156.94')]\n",
      "Meander Escalated Hosts: ['Enterprise0', 'Enterprise1', 'Enterprise2', 'User0', 'User1', 'User2', 'User4', 'User3', 'Op_Server0', 'Op_Host0']\n",
      "Meander Host IP Address Mapping: {'User1': IPv4Address('10.0.110.232'), 'User4': IPv4Address('10.0.110.236'), 'Enterprise0': IPv4Address('10.0.19.199'), 'Enterprise1': IPv4Address('10.0.19.200'), 'User2': IPv4Address('10.0.110.237'), 'Enterprise2': IPv4Address('10.0.19.194'), 'User3': IPv4Address('10.0.110.227'), 'Op_Server0': IPv4Address('10.0.156.81'), 'Op_Host0': IPv4Address('10.0.156.94')}\n",
      "Meander Last Host: Op_Host0\n",
      "Meander Last IP Address: None\n",
      "----------------------------------------------------------------------------\n",
      "{'Op_Host0': {'Interface': [{'IP Address': IPv4Address('10.0.156.94'),\n",
      "                             'Interface Name': 'eth0',\n",
      "                             'Subnet': IPv4Network('10.0.156.80/28')}],\n",
      "              'Sessions': [{'Agent': 'Red',\n",
      "                            'ID': 9,\n",
      "                            'Type': <SessionType.SSH: 2>,\n",
      "                            'Username': 'root'}]},\n",
      " 'success': <TrinaryEnum.TRUE: 1>}\n"
     ]
    }
   ],
   "source": [
    "results = step_red(red_obs)\n",
    "red_obs = results.observation"
   ]
  },
  {
   "cell_type": "code",
   "execution_count": 54,
   "metadata": {},
   "outputs": [
    {
     "name": "stdout",
     "output_type": "stream",
     "text": [
      "Meander Action: ExploitRemoteService 10.0.156.92\n",
      "Meander Scanned Subnets: [IPv4Network('10.0.110.224/28'), IPv4Network('10.0.19.192/28'), IPv4Network('10.0.156.80/28')]\n",
      "Meander Scanned IP Addresses: [IPv4Address('10.0.110.232'), IPv4Address('10.0.110.236'), IPv4Address('10.0.110.237'), IPv4Address('10.0.110.227'), IPv4Address('10.0.110.235'), IPv4Address('10.0.19.200'), IPv4Address('10.0.19.199'), IPv4Address('10.0.19.194'), IPv4Address('10.0.19.195'), IPv4Address('10.0.156.81'), IPv4Address('10.0.156.92'), IPv4Address('10.0.156.86'), IPv4Address('10.0.156.94')]\n",
      "Meander Exploited IP Addresses: [IPv4Address('10.0.110.232'), IPv4Address('10.0.110.236'), IPv4Address('10.0.19.199'), IPv4Address('10.0.19.200'), IPv4Address('10.0.110.237'), IPv4Address('10.0.19.194'), IPv4Address('10.0.110.235'), IPv4Address('10.0.19.195'), IPv4Address('10.0.110.227'), IPv4Address('10.0.156.81'), IPv4Address('10.0.156.94'), IPv4Address('10.0.156.92')]\n",
      "Meander Escalated Hosts: ['Enterprise0', 'Enterprise1', 'Enterprise2', 'User0', 'User1', 'User2', 'User4', 'User3', 'Op_Server0', 'Op_Host0']\n",
      "Meander Host IP Address Mapping: {'User1': IPv4Address('10.0.110.232'), 'User4': IPv4Address('10.0.110.236'), 'Enterprise0': IPv4Address('10.0.19.199'), 'Enterprise1': IPv4Address('10.0.19.200'), 'User2': IPv4Address('10.0.110.237'), 'Enterprise2': IPv4Address('10.0.19.194'), 'User3': IPv4Address('10.0.110.227'), 'Op_Server0': IPv4Address('10.0.156.81'), 'Op_Host0': IPv4Address('10.0.156.94')}\n",
      "Meander Last Host: None\n",
      "Meander Last IP Address: 10.0.156.92\n",
      "----------------------------------------------------------------------------\n",
      "{'10.0.110.235': {'Interface': [{'IP Address': IPv4Address('10.0.110.235')}],\n",
      "                  'Processes': [{'Connections': [{'local_address': IPv4Address('10.0.110.235'),\n",
      "                                                  'local_port': 53707,\n",
      "                                                  'remote_address': IPv4Address('10.0.156.92'),\n",
      "                                                  'remote_port': 22}]}]},\n",
      " '10.0.156.92': {'Interface': [{'IP Address': IPv4Address('10.0.156.92')}],\n",
      "                 'Processes': [{'Connections': [{'Status': <ProcessState.OPEN: 2>,\n",
      "                                                 'local_address': IPv4Address('10.0.156.92'),\n",
      "                                                 'local_port': 22}],\n",
      "                                'Process Type': <ProcessType.SSH: 2>},\n",
      "                               {'Connections': [{'local_address': IPv4Address('10.0.156.92'),\n",
      "                                                 'local_port': 22,\n",
      "                                                 'remote_address': IPv4Address('10.0.110.235'),\n",
      "                                                 'remote_port': 53707}],\n",
      "                                'Process Type': <ProcessType.SSH: 2>}],\n",
      "                 'Sessions': [{'Agent': 'Red',\n",
      "                               'ID': 10,\n",
      "                               'Type': <SessionType.SSH: 2>,\n",
      "                               'Username': 'pi'}],\n",
      "                 'System info': {'Hostname': 'Op_Host2',\n",
      "                                 'OSType': <OperatingSystemType.LINUX: 3>},\n",
      "                 'User Info': [{'Password': 'raspberry',\n",
      "                                'UID': 1001,\n",
      "                                'Username': 'pi'}]},\n",
      " 'success': <TrinaryEnum.TRUE: 1>}\n"
     ]
    }
   ],
   "source": [
    "results = step_red(red_obs)\n",
    "red_obs = results.observation"
   ]
  },
  {
   "cell_type": "code",
   "execution_count": 55,
   "metadata": {},
   "outputs": [
    {
     "name": "stdout",
     "output_type": "stream",
     "text": [
      "Meander Action: PrivilegeEscalate Op_Host2\n",
      "Meander Scanned Subnets: [IPv4Network('10.0.110.224/28'), IPv4Network('10.0.19.192/28'), IPv4Network('10.0.156.80/28')]\n",
      "Meander Scanned IP Addresses: [IPv4Address('10.0.110.232'), IPv4Address('10.0.110.236'), IPv4Address('10.0.110.237'), IPv4Address('10.0.110.227'), IPv4Address('10.0.110.235'), IPv4Address('10.0.19.200'), IPv4Address('10.0.19.199'), IPv4Address('10.0.19.194'), IPv4Address('10.0.19.195'), IPv4Address('10.0.156.81'), IPv4Address('10.0.156.92'), IPv4Address('10.0.156.86'), IPv4Address('10.0.156.94')]\n",
      "Meander Exploited IP Addresses: [IPv4Address('10.0.110.232'), IPv4Address('10.0.110.236'), IPv4Address('10.0.19.199'), IPv4Address('10.0.19.200'), IPv4Address('10.0.110.237'), IPv4Address('10.0.19.194'), IPv4Address('10.0.110.235'), IPv4Address('10.0.19.195'), IPv4Address('10.0.110.227'), IPv4Address('10.0.156.81'), IPv4Address('10.0.156.94'), IPv4Address('10.0.156.92')]\n",
      "Meander Escalated Hosts: ['Enterprise0', 'Enterprise1', 'Enterprise2', 'User0', 'User1', 'User2', 'User4', 'User3', 'Op_Server0', 'Op_Host0', 'Op_Host2']\n",
      "Meander Host IP Address Mapping: {'User1': IPv4Address('10.0.110.232'), 'User4': IPv4Address('10.0.110.236'), 'Enterprise0': IPv4Address('10.0.19.199'), 'Enterprise1': IPv4Address('10.0.19.200'), 'User2': IPv4Address('10.0.110.237'), 'Enterprise2': IPv4Address('10.0.19.194'), 'User3': IPv4Address('10.0.110.227'), 'Op_Server0': IPv4Address('10.0.156.81'), 'Op_Host0': IPv4Address('10.0.156.94'), 'Op_Host2': IPv4Address('10.0.156.92')}\n",
      "Meander Last Host: Op_Host2\n",
      "Meander Last IP Address: None\n",
      "----------------------------------------------------------------------------\n",
      "{'Op_Host2': {'Interface': [{'IP Address': IPv4Address('10.0.156.92'),\n",
      "                             'Interface Name': 'eth0',\n",
      "                             'Subnet': IPv4Network('10.0.156.80/28')}],\n",
      "              'Sessions': [{'Agent': 'Red',\n",
      "                            'ID': 10,\n",
      "                            'Type': <SessionType.SSH: 2>,\n",
      "                            'Username': 'root'}]},\n",
      " 'success': <TrinaryEnum.TRUE: 1>}\n"
     ]
    }
   ],
   "source": [
    "results = step_red(red_obs)\n",
    "red_obs = results.observation"
   ]
  },
  {
   "cell_type": "code",
   "execution_count": 56,
   "metadata": {},
   "outputs": [
    {
     "name": "stdout",
     "output_type": "stream",
     "text": [
      "Meander Action: ExploitRemoteService 10.0.156.86\n",
      "Meander Scanned Subnets: [IPv4Network('10.0.110.224/28'), IPv4Network('10.0.19.192/28'), IPv4Network('10.0.156.80/28')]\n",
      "Meander Scanned IP Addresses: [IPv4Address('10.0.110.232'), IPv4Address('10.0.110.236'), IPv4Address('10.0.110.237'), IPv4Address('10.0.110.227'), IPv4Address('10.0.110.235'), IPv4Address('10.0.19.200'), IPv4Address('10.0.19.199'), IPv4Address('10.0.19.194'), IPv4Address('10.0.19.195'), IPv4Address('10.0.156.81'), IPv4Address('10.0.156.92'), IPv4Address('10.0.156.86'), IPv4Address('10.0.156.94')]\n",
      "Meander Exploited IP Addresses: [IPv4Address('10.0.110.232'), IPv4Address('10.0.110.236'), IPv4Address('10.0.19.199'), IPv4Address('10.0.19.200'), IPv4Address('10.0.110.237'), IPv4Address('10.0.19.194'), IPv4Address('10.0.110.235'), IPv4Address('10.0.19.195'), IPv4Address('10.0.110.227'), IPv4Address('10.0.156.81'), IPv4Address('10.0.156.94'), IPv4Address('10.0.156.92'), IPv4Address('10.0.156.86')]\n",
      "Meander Escalated Hosts: ['Enterprise0', 'Enterprise1', 'Enterprise2', 'User0', 'User1', 'User2', 'User4', 'User3', 'Op_Server0', 'Op_Host0', 'Op_Host2']\n",
      "Meander Host IP Address Mapping: {'User1': IPv4Address('10.0.110.232'), 'User4': IPv4Address('10.0.110.236'), 'Enterprise0': IPv4Address('10.0.19.199'), 'Enterprise1': IPv4Address('10.0.19.200'), 'User2': IPv4Address('10.0.110.237'), 'Enterprise2': IPv4Address('10.0.19.194'), 'User3': IPv4Address('10.0.110.227'), 'Op_Server0': IPv4Address('10.0.156.81'), 'Op_Host0': IPv4Address('10.0.156.94'), 'Op_Host2': IPv4Address('10.0.156.92')}\n",
      "Meander Last Host: None\n",
      "Meander Last IP Address: 10.0.156.86\n",
      "----------------------------------------------------------------------------\n",
      "{'10.0.110.235': {'Interface': [{'IP Address': IPv4Address('10.0.110.235')}],\n",
      "                  'Processes': [{'Connections': [{'local_address': IPv4Address('10.0.110.235'),\n",
      "                                                  'local_port': 58884,\n",
      "                                                  'remote_address': IPv4Address('10.0.156.86'),\n",
      "                                                  'remote_port': 22}]}]},\n",
      " '10.0.156.86': {'Interface': [{'IP Address': IPv4Address('10.0.156.86')}],\n",
      "                 'Processes': [{'Connections': [{'Status': <ProcessState.OPEN: 2>,\n",
      "                                                 'local_address': IPv4Address('10.0.156.86'),\n",
      "                                                 'local_port': 22}],\n",
      "                                'Process Type': <ProcessType.SSH: 2>},\n",
      "                               {'Connections': [{'local_address': IPv4Address('10.0.156.86'),\n",
      "                                                 'local_port': 22,\n",
      "                                                 'remote_address': IPv4Address('10.0.110.235'),\n",
      "                                                 'remote_port': 58884}],\n",
      "                                'Process Type': <ProcessType.SSH: 2>}],\n",
      "                 'Sessions': [{'Agent': 'Red',\n",
      "                               'ID': 11,\n",
      "                               'Type': <SessionType.SSH: 2>,\n",
      "                               'Username': 'pi'}],\n",
      "                 'System info': {'Hostname': 'Op_Host1',\n",
      "                                 'OSType': <OperatingSystemType.LINUX: 3>},\n",
      "                 'User Info': [{'Password': 'raspberry',\n",
      "                                'UID': 1001,\n",
      "                                'Username': 'pi'}]},\n",
      " 'success': <TrinaryEnum.TRUE: 1>}\n"
     ]
    }
   ],
   "source": [
    "results = step_red(red_obs)\n",
    "red_obs = results.observation"
   ]
  },
  {
   "cell_type": "code",
   "execution_count": 57,
   "metadata": {},
   "outputs": [
    {
     "name": "stdout",
     "output_type": "stream",
     "text": [
      "Meander Action: PrivilegeEscalate Op_Host1\n",
      "Meander Scanned Subnets: [IPv4Network('10.0.110.224/28'), IPv4Network('10.0.19.192/28'), IPv4Network('10.0.156.80/28')]\n",
      "Meander Scanned IP Addresses: [IPv4Address('10.0.110.232'), IPv4Address('10.0.110.236'), IPv4Address('10.0.110.237'), IPv4Address('10.0.110.227'), IPv4Address('10.0.110.235'), IPv4Address('10.0.19.200'), IPv4Address('10.0.19.199'), IPv4Address('10.0.19.194'), IPv4Address('10.0.19.195'), IPv4Address('10.0.156.81'), IPv4Address('10.0.156.92'), IPv4Address('10.0.156.86'), IPv4Address('10.0.156.94')]\n",
      "Meander Exploited IP Addresses: [IPv4Address('10.0.110.232'), IPv4Address('10.0.110.236'), IPv4Address('10.0.19.199'), IPv4Address('10.0.19.200'), IPv4Address('10.0.110.237'), IPv4Address('10.0.19.194'), IPv4Address('10.0.110.235'), IPv4Address('10.0.19.195'), IPv4Address('10.0.110.227'), IPv4Address('10.0.156.81'), IPv4Address('10.0.156.94'), IPv4Address('10.0.156.92'), IPv4Address('10.0.156.86')]\n",
      "Meander Escalated Hosts: ['Enterprise0', 'Enterprise1', 'Enterprise2', 'User0', 'User1', 'User2', 'User4', 'User3', 'Op_Server0', 'Op_Host0', 'Op_Host2', 'Op_Host1']\n",
      "Meander Host IP Address Mapping: {'User1': IPv4Address('10.0.110.232'), 'User4': IPv4Address('10.0.110.236'), 'Enterprise0': IPv4Address('10.0.19.199'), 'Enterprise1': IPv4Address('10.0.19.200'), 'User2': IPv4Address('10.0.110.237'), 'Enterprise2': IPv4Address('10.0.19.194'), 'User3': IPv4Address('10.0.110.227'), 'Op_Server0': IPv4Address('10.0.156.81'), 'Op_Host0': IPv4Address('10.0.156.94'), 'Op_Host2': IPv4Address('10.0.156.92'), 'Op_Host1': IPv4Address('10.0.156.86')}\n",
      "Meander Last Host: Op_Host1\n",
      "Meander Last IP Address: None\n",
      "----------------------------------------------------------------------------\n",
      "{'Op_Host1': {'Interface': [{'IP Address': IPv4Address('10.0.156.86'),\n",
      "                             'Interface Name': 'eth0',\n",
      "                             'Subnet': IPv4Network('10.0.156.80/28')}],\n",
      "              'Sessions': [{'Agent': 'Red',\n",
      "                            'ID': 11,\n",
      "                            'Type': <SessionType.SSH: 2>,\n",
      "                            'Username': 'root'}]},\n",
      " 'success': <TrinaryEnum.TRUE: 1>}\n"
     ]
    }
   ],
   "source": [
    "results = step_red(red_obs)\n",
    "red_obs = results.observation"
   ]
  },
  {
   "cell_type": "code",
   "execution_count": 58,
   "metadata": {},
   "outputs": [
    {
     "name": "stdout",
     "output_type": "stream",
     "text": [
      "Meander Action: Impact Op_Server0\n",
      "Meander Scanned Subnets: [IPv4Network('10.0.110.224/28'), IPv4Network('10.0.19.192/28'), IPv4Network('10.0.156.80/28')]\n",
      "Meander Scanned IP Addresses: [IPv4Address('10.0.110.232'), IPv4Address('10.0.110.236'), IPv4Address('10.0.110.237'), IPv4Address('10.0.110.227'), IPv4Address('10.0.110.235'), IPv4Address('10.0.19.200'), IPv4Address('10.0.19.199'), IPv4Address('10.0.19.194'), IPv4Address('10.0.19.195'), IPv4Address('10.0.156.81'), IPv4Address('10.0.156.92'), IPv4Address('10.0.156.86'), IPv4Address('10.0.156.94')]\n",
      "Meander Exploited IP Addresses: [IPv4Address('10.0.110.232'), IPv4Address('10.0.110.236'), IPv4Address('10.0.19.199'), IPv4Address('10.0.19.200'), IPv4Address('10.0.110.237'), IPv4Address('10.0.19.194'), IPv4Address('10.0.110.235'), IPv4Address('10.0.19.195'), IPv4Address('10.0.110.227'), IPv4Address('10.0.156.81'), IPv4Address('10.0.156.94'), IPv4Address('10.0.156.92'), IPv4Address('10.0.156.86')]\n",
      "Meander Escalated Hosts: ['Enterprise0', 'Enterprise1', 'Enterprise2', 'User0', 'User1', 'User2', 'User4', 'User3', 'Op_Server0', 'Op_Host0', 'Op_Host2', 'Op_Host1']\n",
      "Meander Host IP Address Mapping: {'User1': IPv4Address('10.0.110.232'), 'User4': IPv4Address('10.0.110.236'), 'Enterprise0': IPv4Address('10.0.19.199'), 'Enterprise1': IPv4Address('10.0.19.200'), 'User2': IPv4Address('10.0.110.237'), 'Enterprise2': IPv4Address('10.0.19.194'), 'User3': IPv4Address('10.0.110.227'), 'Op_Server0': IPv4Address('10.0.156.81'), 'Op_Host0': IPv4Address('10.0.156.94'), 'Op_Host2': IPv4Address('10.0.156.92'), 'Op_Host1': IPv4Address('10.0.156.86')}\n",
      "Meander Last Host: Op_Server0\n",
      "Meander Last IP Address: None\n",
      "----------------------------------------------------------------------------\n",
      "{'success': <TrinaryEnum.TRUE: 1>}\n"
     ]
    }
   ],
   "source": [
    "results = step_red(red_obs)\n",
    "red_obs = results.observation"
   ]
  },
  {
   "cell_type": "code",
   "execution_count": 59,
   "metadata": {},
   "outputs": [
    {
     "name": "stdout",
     "output_type": "stream",
     "text": [
      "Meander Action: Impact Op_Server0\n",
      "Meander Scanned Subnets: [IPv4Network('10.0.110.224/28'), IPv4Network('10.0.19.192/28'), IPv4Network('10.0.156.80/28')]\n",
      "Meander Scanned IP Addresses: [IPv4Address('10.0.110.232'), IPv4Address('10.0.110.236'), IPv4Address('10.0.110.237'), IPv4Address('10.0.110.227'), IPv4Address('10.0.110.235'), IPv4Address('10.0.19.200'), IPv4Address('10.0.19.199'), IPv4Address('10.0.19.194'), IPv4Address('10.0.19.195'), IPv4Address('10.0.156.81'), IPv4Address('10.0.156.92'), IPv4Address('10.0.156.86'), IPv4Address('10.0.156.94')]\n",
      "Meander Exploited IP Addresses: [IPv4Address('10.0.110.232'), IPv4Address('10.0.110.236'), IPv4Address('10.0.19.199'), IPv4Address('10.0.19.200'), IPv4Address('10.0.110.237'), IPv4Address('10.0.19.194'), IPv4Address('10.0.110.235'), IPv4Address('10.0.19.195'), IPv4Address('10.0.110.227'), IPv4Address('10.0.156.81'), IPv4Address('10.0.156.94'), IPv4Address('10.0.156.92'), IPv4Address('10.0.156.86')]\n",
      "Meander Escalated Hosts: ['Enterprise0', 'Enterprise1', 'Enterprise2', 'User0', 'User1', 'User2', 'User4', 'User3', 'Op_Server0', 'Op_Host0', 'Op_Host2', 'Op_Host1']\n",
      "Meander Host IP Address Mapping: {'User1': IPv4Address('10.0.110.232'), 'User4': IPv4Address('10.0.110.236'), 'Enterprise0': IPv4Address('10.0.19.199'), 'Enterprise1': IPv4Address('10.0.19.200'), 'User2': IPv4Address('10.0.110.237'), 'Enterprise2': IPv4Address('10.0.19.194'), 'User3': IPv4Address('10.0.110.227'), 'Op_Server0': IPv4Address('10.0.156.81'), 'Op_Host0': IPv4Address('10.0.156.94'), 'Op_Host2': IPv4Address('10.0.156.92'), 'Op_Host1': IPv4Address('10.0.156.86')}\n",
      "Meander Last Host: Op_Server0\n",
      "Meander Last IP Address: None\n",
      "----------------------------------------------------------------------------\n",
      "{'success': <TrinaryEnum.TRUE: 1>}\n"
     ]
    }
   ],
   "source": [
    "results = step_red(red_obs)\n",
    "red_obs = results.observation"
   ]
  },
  {
   "cell_type": "code",
   "execution_count": 60,
   "metadata": {},
   "outputs": [
    {
     "name": "stdout",
     "output_type": "stream",
     "text": [
      "Meander Action: Impact Op_Server0\n",
      "Meander Scanned Subnets: [IPv4Network('10.0.110.224/28'), IPv4Network('10.0.19.192/28'), IPv4Network('10.0.156.80/28')]\n",
      "Meander Scanned IP Addresses: [IPv4Address('10.0.110.232'), IPv4Address('10.0.110.236'), IPv4Address('10.0.110.237'), IPv4Address('10.0.110.227'), IPv4Address('10.0.110.235'), IPv4Address('10.0.19.200'), IPv4Address('10.0.19.199'), IPv4Address('10.0.19.194'), IPv4Address('10.0.19.195'), IPv4Address('10.0.156.81'), IPv4Address('10.0.156.92'), IPv4Address('10.0.156.86'), IPv4Address('10.0.156.94')]\n",
      "Meander Exploited IP Addresses: [IPv4Address('10.0.110.232'), IPv4Address('10.0.110.236'), IPv4Address('10.0.19.199'), IPv4Address('10.0.19.200'), IPv4Address('10.0.110.237'), IPv4Address('10.0.19.194'), IPv4Address('10.0.110.235'), IPv4Address('10.0.19.195'), IPv4Address('10.0.110.227'), IPv4Address('10.0.156.81'), IPv4Address('10.0.156.94'), IPv4Address('10.0.156.92'), IPv4Address('10.0.156.86')]\n",
      "Meander Escalated Hosts: ['Enterprise0', 'Enterprise1', 'Enterprise2', 'User0', 'User1', 'User2', 'User4', 'User3', 'Op_Server0', 'Op_Host0', 'Op_Host2', 'Op_Host1']\n",
      "Meander Host IP Address Mapping: {'User1': IPv4Address('10.0.110.232'), 'User4': IPv4Address('10.0.110.236'), 'Enterprise0': IPv4Address('10.0.19.199'), 'Enterprise1': IPv4Address('10.0.19.200'), 'User2': IPv4Address('10.0.110.237'), 'Enterprise2': IPv4Address('10.0.19.194'), 'User3': IPv4Address('10.0.110.227'), 'Op_Server0': IPv4Address('10.0.156.81'), 'Op_Host0': IPv4Address('10.0.156.94'), 'Op_Host2': IPv4Address('10.0.156.92'), 'Op_Host1': IPv4Address('10.0.156.86')}\n",
      "Meander Last Host: Op_Server0\n",
      "Meander Last IP Address: None\n",
      "----------------------------------------------------------------------------\n",
      "{'success': <TrinaryEnum.TRUE: 1>}\n"
     ]
    }
   ],
   "source": [
    "results = step_red(red_obs)\n",
    "red_obs = results.observation"
   ]
  },
  {
   "cell_type": "code",
   "execution_count": 61,
   "metadata": {},
   "outputs": [
    {
     "name": "stdout",
     "output_type": "stream",
     "text": [
      "Meander Action: Impact Op_Server0\n",
      "Meander Scanned Subnets: [IPv4Network('10.0.110.224/28'), IPv4Network('10.0.19.192/28'), IPv4Network('10.0.156.80/28')]\n",
      "Meander Scanned IP Addresses: [IPv4Address('10.0.110.232'), IPv4Address('10.0.110.236'), IPv4Address('10.0.110.237'), IPv4Address('10.0.110.227'), IPv4Address('10.0.110.235'), IPv4Address('10.0.19.200'), IPv4Address('10.0.19.199'), IPv4Address('10.0.19.194'), IPv4Address('10.0.19.195'), IPv4Address('10.0.156.81'), IPv4Address('10.0.156.92'), IPv4Address('10.0.156.86'), IPv4Address('10.0.156.94')]\n",
      "Meander Exploited IP Addresses: [IPv4Address('10.0.110.232'), IPv4Address('10.0.110.236'), IPv4Address('10.0.19.199'), IPv4Address('10.0.19.200'), IPv4Address('10.0.110.237'), IPv4Address('10.0.19.194'), IPv4Address('10.0.110.235'), IPv4Address('10.0.19.195'), IPv4Address('10.0.110.227'), IPv4Address('10.0.156.81'), IPv4Address('10.0.156.94'), IPv4Address('10.0.156.92'), IPv4Address('10.0.156.86')]\n",
      "Meander Escalated Hosts: ['Enterprise0', 'Enterprise1', 'Enterprise2', 'User0', 'User1', 'User2', 'User4', 'User3', 'Op_Server0', 'Op_Host0', 'Op_Host2', 'Op_Host1']\n",
      "Meander Host IP Address Mapping: {'User1': IPv4Address('10.0.110.232'), 'User4': IPv4Address('10.0.110.236'), 'Enterprise0': IPv4Address('10.0.19.199'), 'Enterprise1': IPv4Address('10.0.19.200'), 'User2': IPv4Address('10.0.110.237'), 'Enterprise2': IPv4Address('10.0.19.194'), 'User3': IPv4Address('10.0.110.227'), 'Op_Server0': IPv4Address('10.0.156.81'), 'Op_Host0': IPv4Address('10.0.156.94'), 'Op_Host2': IPv4Address('10.0.156.92'), 'Op_Host1': IPv4Address('10.0.156.86')}\n",
      "Meander Last Host: Op_Server0\n",
      "Meander Last IP Address: None\n",
      "----------------------------------------------------------------------------\n",
      "{'success': <TrinaryEnum.TRUE: 1>}\n"
     ]
    }
   ],
   "source": [
    "results = step_red(red_obs)\n",
    "red_obs = results.observation"
   ]
  },
  {
   "cell_type": "code",
   "execution_count": 62,
   "metadata": {},
   "outputs": [
    {
     "name": "stdout",
     "output_type": "stream",
     "text": [
      "Meander Action: Impact Op_Server0\n",
      "Meander Scanned Subnets: [IPv4Network('10.0.110.224/28'), IPv4Network('10.0.19.192/28'), IPv4Network('10.0.156.80/28')]\n",
      "Meander Scanned IP Addresses: [IPv4Address('10.0.110.232'), IPv4Address('10.0.110.236'), IPv4Address('10.0.110.237'), IPv4Address('10.0.110.227'), IPv4Address('10.0.110.235'), IPv4Address('10.0.19.200'), IPv4Address('10.0.19.199'), IPv4Address('10.0.19.194'), IPv4Address('10.0.19.195'), IPv4Address('10.0.156.81'), IPv4Address('10.0.156.92'), IPv4Address('10.0.156.86'), IPv4Address('10.0.156.94')]\n",
      "Meander Exploited IP Addresses: [IPv4Address('10.0.110.232'), IPv4Address('10.0.110.236'), IPv4Address('10.0.19.199'), IPv4Address('10.0.19.200'), IPv4Address('10.0.110.237'), IPv4Address('10.0.19.194'), IPv4Address('10.0.110.235'), IPv4Address('10.0.19.195'), IPv4Address('10.0.110.227'), IPv4Address('10.0.156.81'), IPv4Address('10.0.156.94'), IPv4Address('10.0.156.92'), IPv4Address('10.0.156.86')]\n",
      "Meander Escalated Hosts: ['Enterprise0', 'Enterprise1', 'Enterprise2', 'User0', 'User1', 'User2', 'User4', 'User3', 'Op_Server0', 'Op_Host0', 'Op_Host2', 'Op_Host1']\n",
      "Meander Host IP Address Mapping: {'User1': IPv4Address('10.0.110.232'), 'User4': IPv4Address('10.0.110.236'), 'Enterprise0': IPv4Address('10.0.19.199'), 'Enterprise1': IPv4Address('10.0.19.200'), 'User2': IPv4Address('10.0.110.237'), 'Enterprise2': IPv4Address('10.0.19.194'), 'User3': IPv4Address('10.0.110.227'), 'Op_Server0': IPv4Address('10.0.156.81'), 'Op_Host0': IPv4Address('10.0.156.94'), 'Op_Host2': IPv4Address('10.0.156.92'), 'Op_Host1': IPv4Address('10.0.156.86')}\n",
      "Meander Last Host: Op_Server0\n",
      "Meander Last IP Address: None\n",
      "----------------------------------------------------------------------------\n",
      "{'success': <TrinaryEnum.TRUE: 1>}\n"
     ]
    }
   ],
   "source": [
    "results = step_red(red_obs)\n",
    "red_obs = results.observation"
   ]
  },
  {
   "cell_type": "code",
   "execution_count": 63,
   "metadata": {},
   "outputs": [
    {
     "name": "stdout",
     "output_type": "stream",
     "text": [
      "Meander Action: Impact Op_Server0\n",
      "Meander Scanned Subnets: [IPv4Network('10.0.110.224/28'), IPv4Network('10.0.19.192/28'), IPv4Network('10.0.156.80/28')]\n",
      "Meander Scanned IP Addresses: [IPv4Address('10.0.110.232'), IPv4Address('10.0.110.236'), IPv4Address('10.0.110.237'), IPv4Address('10.0.110.227'), IPv4Address('10.0.110.235'), IPv4Address('10.0.19.200'), IPv4Address('10.0.19.199'), IPv4Address('10.0.19.194'), IPv4Address('10.0.19.195'), IPv4Address('10.0.156.81'), IPv4Address('10.0.156.92'), IPv4Address('10.0.156.86'), IPv4Address('10.0.156.94')]\n",
      "Meander Exploited IP Addresses: [IPv4Address('10.0.110.232'), IPv4Address('10.0.110.236'), IPv4Address('10.0.19.199'), IPv4Address('10.0.19.200'), IPv4Address('10.0.110.237'), IPv4Address('10.0.19.194'), IPv4Address('10.0.110.235'), IPv4Address('10.0.19.195'), IPv4Address('10.0.110.227'), IPv4Address('10.0.156.81'), IPv4Address('10.0.156.94'), IPv4Address('10.0.156.92'), IPv4Address('10.0.156.86')]\n",
      "Meander Escalated Hosts: ['Enterprise0', 'Enterprise1', 'Enterprise2', 'User0', 'User1', 'User2', 'User4', 'User3', 'Op_Server0', 'Op_Host0', 'Op_Host2', 'Op_Host1']\n",
      "Meander Host IP Address Mapping: {'User1': IPv4Address('10.0.110.232'), 'User4': IPv4Address('10.0.110.236'), 'Enterprise0': IPv4Address('10.0.19.199'), 'Enterprise1': IPv4Address('10.0.19.200'), 'User2': IPv4Address('10.0.110.237'), 'Enterprise2': IPv4Address('10.0.19.194'), 'User3': IPv4Address('10.0.110.227'), 'Op_Server0': IPv4Address('10.0.156.81'), 'Op_Host0': IPv4Address('10.0.156.94'), 'Op_Host2': IPv4Address('10.0.156.92'), 'Op_Host1': IPv4Address('10.0.156.86')}\n",
      "Meander Last Host: Op_Server0\n",
      "Meander Last IP Address: None\n",
      "----------------------------------------------------------------------------\n",
      "{'success': <TrinaryEnum.TRUE: 1>}\n"
     ]
    }
   ],
   "source": [
    "results = step_red(red_obs)\n",
    "red_obs = results.observation"
   ]
  },
  {
   "cell_type": "code",
   "execution_count": 64,
   "metadata": {},
   "outputs": [
    {
     "name": "stdout",
     "output_type": "stream",
     "text": [
      "Meander Action: Impact Op_Server0\n",
      "Meander Scanned Subnets: [IPv4Network('10.0.110.224/28'), IPv4Network('10.0.19.192/28'), IPv4Network('10.0.156.80/28')]\n",
      "Meander Scanned IP Addresses: [IPv4Address('10.0.110.232'), IPv4Address('10.0.110.236'), IPv4Address('10.0.110.237'), IPv4Address('10.0.110.227'), IPv4Address('10.0.110.235'), IPv4Address('10.0.19.200'), IPv4Address('10.0.19.199'), IPv4Address('10.0.19.194'), IPv4Address('10.0.19.195'), IPv4Address('10.0.156.81'), IPv4Address('10.0.156.92'), IPv4Address('10.0.156.86'), IPv4Address('10.0.156.94')]\n",
      "Meander Exploited IP Addresses: [IPv4Address('10.0.110.232'), IPv4Address('10.0.110.236'), IPv4Address('10.0.19.199'), IPv4Address('10.0.19.200'), IPv4Address('10.0.110.237'), IPv4Address('10.0.19.194'), IPv4Address('10.0.110.235'), IPv4Address('10.0.19.195'), IPv4Address('10.0.110.227'), IPv4Address('10.0.156.81'), IPv4Address('10.0.156.94'), IPv4Address('10.0.156.92'), IPv4Address('10.0.156.86')]\n",
      "Meander Escalated Hosts: ['Enterprise0', 'Enterprise1', 'Enterprise2', 'User0', 'User1', 'User2', 'User4', 'User3', 'Op_Server0', 'Op_Host0', 'Op_Host2', 'Op_Host1']\n",
      "Meander Host IP Address Mapping: {'User1': IPv4Address('10.0.110.232'), 'User4': IPv4Address('10.0.110.236'), 'Enterprise0': IPv4Address('10.0.19.199'), 'Enterprise1': IPv4Address('10.0.19.200'), 'User2': IPv4Address('10.0.110.237'), 'Enterprise2': IPv4Address('10.0.19.194'), 'User3': IPv4Address('10.0.110.227'), 'Op_Server0': IPv4Address('10.0.156.81'), 'Op_Host0': IPv4Address('10.0.156.94'), 'Op_Host2': IPv4Address('10.0.156.92'), 'Op_Host1': IPv4Address('10.0.156.86')}\n",
      "Meander Last Host: Op_Server0\n",
      "Meander Last IP Address: None\n",
      "----------------------------------------------------------------------------\n",
      "{'success': <TrinaryEnum.TRUE: 1>}\n"
     ]
    }
   ],
   "source": [
    "results = step_red(red_obs)\n",
    "red_obs = results.observation"
   ]
  },
  {
   "cell_type": "code",
   "execution_count": 65,
   "metadata": {},
   "outputs": [
    {
     "name": "stdout",
     "output_type": "stream",
     "text": [
      "Meander Action: Impact Op_Server0\n",
      "Meander Scanned Subnets: [IPv4Network('10.0.110.224/28'), IPv4Network('10.0.19.192/28'), IPv4Network('10.0.156.80/28')]\n",
      "Meander Scanned IP Addresses: [IPv4Address('10.0.110.232'), IPv4Address('10.0.110.236'), IPv4Address('10.0.110.237'), IPv4Address('10.0.110.227'), IPv4Address('10.0.110.235'), IPv4Address('10.0.19.200'), IPv4Address('10.0.19.199'), IPv4Address('10.0.19.194'), IPv4Address('10.0.19.195'), IPv4Address('10.0.156.81'), IPv4Address('10.0.156.92'), IPv4Address('10.0.156.86'), IPv4Address('10.0.156.94')]\n",
      "Meander Exploited IP Addresses: [IPv4Address('10.0.110.232'), IPv4Address('10.0.110.236'), IPv4Address('10.0.19.199'), IPv4Address('10.0.19.200'), IPv4Address('10.0.110.237'), IPv4Address('10.0.19.194'), IPv4Address('10.0.110.235'), IPv4Address('10.0.19.195'), IPv4Address('10.0.110.227'), IPv4Address('10.0.156.81'), IPv4Address('10.0.156.94'), IPv4Address('10.0.156.92'), IPv4Address('10.0.156.86')]\n",
      "Meander Escalated Hosts: ['Enterprise0', 'Enterprise1', 'Enterprise2', 'User0', 'User1', 'User2', 'User4', 'User3', 'Op_Server0', 'Op_Host0', 'Op_Host2', 'Op_Host1']\n",
      "Meander Host IP Address Mapping: {'User1': IPv4Address('10.0.110.232'), 'User4': IPv4Address('10.0.110.236'), 'Enterprise0': IPv4Address('10.0.19.199'), 'Enterprise1': IPv4Address('10.0.19.200'), 'User2': IPv4Address('10.0.110.237'), 'Enterprise2': IPv4Address('10.0.19.194'), 'User3': IPv4Address('10.0.110.227'), 'Op_Server0': IPv4Address('10.0.156.81'), 'Op_Host0': IPv4Address('10.0.156.94'), 'Op_Host2': IPv4Address('10.0.156.92'), 'Op_Host1': IPv4Address('10.0.156.86')}\n",
      "Meander Last Host: Op_Server0\n",
      "Meander Last IP Address: None\n",
      "----------------------------------------------------------------------------\n",
      "{'success': <TrinaryEnum.TRUE: 1>}\n"
     ]
    }
   ],
   "source": [
    "results = step_red(red_obs)\n",
    "red_obs = results.observation"
   ]
  }
 ],
 "metadata": {
  "interpreter": {
   "hash": "916dbcbb3f70747c44a77c7bcd40155683ae19c65e1c03b4aa3499c5328201f1"
  },
  "kernelspec": {
   "display_name": "Python 3.8.10 64-bit",
   "language": "python",
   "name": "python3"
  },
  "language_info": {
   "codemirror_mode": {
    "name": "ipython",
    "version": 3
   },
   "file_extension": ".py",
   "mimetype": "text/x-python",
   "name": "python",
   "nbconvert_exporter": "python",
   "pygments_lexer": "ipython3",
   "version": "3.8.10"
  },
  "orig_nbformat": 4
 },
 "nbformat": 4,
 "nbformat_minor": 2
}
